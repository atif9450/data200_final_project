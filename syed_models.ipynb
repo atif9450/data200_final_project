{
 "cells": [
  {
   "cell_type": "code",
   "execution_count": 64,
   "id": "ab911206-36c0-406b-89d2-64317852cba6",
   "metadata": {
    "tags": []
   },
   "outputs": [],
   "source": [
    "import pandas as pd\n",
    "import numpy as np\n",
    "import seaborn as sns\n",
    "import matplotlib.pyplot as plt\n",
    "from sklearn.linear_model import LinearRegression, LassoCV\n",
    "from sklearn.model_selection import train_test_split, RepeatedKFold\n",
    "from sklearn.metrics import mean_squared_error, r2_score, confusion_matrix\n",
    "from sklearn.tree import DecisionTreeClassifier, plot_tree"
   ]
  },
  {
   "cell_type": "code",
   "execution_count": 2,
   "id": "c1a63d28-6aac-424d-9291-2f73e4b00ec1",
   "metadata": {
    "tags": []
   },
   "outputs": [],
   "source": [
    "df = pd.read_csv(\"wage.data.txt\", delim_whitespace=True)"
   ]
  },
  {
   "cell_type": "code",
   "execution_count": 3,
   "id": "6ed369da-e29f-4bdc-8737-fc66f8a8f70b",
   "metadata": {
    "tags": []
   },
   "outputs": [],
   "source": [
    "## now that we have some variables, we make a linear model\n",
    "## since it is all categorical variables, we will need to do some one-hot encoding (this will also make inferences easier)"
   ]
  },
  {
   "cell_type": "code",
   "execution_count": 4,
   "id": "ea0cc5b1-719e-4dee-bec3-7e5b3478b9fc",
   "metadata": {
    "tags": []
   },
   "outputs": [],
   "source": [
    "# create one-hot for occupation\n",
    "df[\"occ_1\"] = df.occupation.apply(lambda x: 1 if x == 1 else 0)\n",
    "df[\"occ_2\"] = df.occupation.apply(lambda x: 1 if x == 2 else 0)\n",
    "df[\"occ_3\"] = df.occupation.apply(lambda x: 1 if x == 3 else 0)\n",
    "df[\"occ_4\"] = df.occupation.apply(lambda x: 1 if x == 4 else 0)\n",
    "df[\"occ_5\"] = df.occupation.apply(lambda x: 1 if x == 5 else 0)\n",
    "df[\"occ_6\"] = df.occupation.apply(lambda x: 1 if x == 6 else 0)\n",
    "\n",
    "# create one-hot variables for sector\n",
    "df[\"sec_0\"] = df.sector.apply(lambda x: 1 if x == 0 else 0)\n",
    "df[\"sec_1\"] = df.sector.apply(lambda x: 1 if x == 1 else 0)\n",
    "df[\"sec_2\"] = df.sector.apply(lambda x: 1 if x == 2 else 0)\n",
    "\n",
    "# create one-hot variables for race\n",
    "df[\"race_1\"] = df.race.apply(lambda x: 1 if x == 1 else 0)\n",
    "df[\"race_2\"] = df.race.apply(lambda x: 1 if x == 2 else 0)\n",
    "df[\"race_3\"] = df.race.apply(lambda x: 1 if x == 3 else 0)"
   ]
  },
  {
   "cell_type": "code",
   "execution_count": 28,
   "id": "cecb94e3-40dd-401b-baa2-1babff7f5ade",
   "metadata": {
    "tags": []
   },
   "outputs": [],
   "source": [
    "## define training and testing splits\n",
    "X = df.drop([\"education\", \"experience\", \"wage\", \"age\", \"race\", \"occupation\", \"sector\"], axis=1)\n",
    "y = df.wage\n",
    "\n",
    "X_train, X_test, y_train, y_test = train_test_split(X, y, test_size=0.2, random_state=0)"
   ]
  },
  {
   "cell_type": "code",
   "execution_count": 29,
   "id": "f9c6e713-651d-4579-b89d-405cb01171c1",
   "metadata": {
    "tags": []
   },
   "outputs": [
    {
     "data": {
      "text/html": [
       "<style>#sk-container-id-8 {color: black;}#sk-container-id-8 pre{padding: 0;}#sk-container-id-8 div.sk-toggleable {background-color: white;}#sk-container-id-8 label.sk-toggleable__label {cursor: pointer;display: block;width: 100%;margin-bottom: 0;padding: 0.3em;box-sizing: border-box;text-align: center;}#sk-container-id-8 label.sk-toggleable__label-arrow:before {content: \"▸\";float: left;margin-right: 0.25em;color: #696969;}#sk-container-id-8 label.sk-toggleable__label-arrow:hover:before {color: black;}#sk-container-id-8 div.sk-estimator:hover label.sk-toggleable__label-arrow:before {color: black;}#sk-container-id-8 div.sk-toggleable__content {max-height: 0;max-width: 0;overflow: hidden;text-align: left;background-color: #f0f8ff;}#sk-container-id-8 div.sk-toggleable__content pre {margin: 0.2em;color: black;border-radius: 0.25em;background-color: #f0f8ff;}#sk-container-id-8 input.sk-toggleable__control:checked~div.sk-toggleable__content {max-height: 200px;max-width: 100%;overflow: auto;}#sk-container-id-8 input.sk-toggleable__control:checked~label.sk-toggleable__label-arrow:before {content: \"▾\";}#sk-container-id-8 div.sk-estimator input.sk-toggleable__control:checked~label.sk-toggleable__label {background-color: #d4ebff;}#sk-container-id-8 div.sk-label input.sk-toggleable__control:checked~label.sk-toggleable__label {background-color: #d4ebff;}#sk-container-id-8 input.sk-hidden--visually {border: 0;clip: rect(1px 1px 1px 1px);clip: rect(1px, 1px, 1px, 1px);height: 1px;margin: -1px;overflow: hidden;padding: 0;position: absolute;width: 1px;}#sk-container-id-8 div.sk-estimator {font-family: monospace;background-color: #f0f8ff;border: 1px dotted black;border-radius: 0.25em;box-sizing: border-box;margin-bottom: 0.5em;}#sk-container-id-8 div.sk-estimator:hover {background-color: #d4ebff;}#sk-container-id-8 div.sk-parallel-item::after {content: \"\";width: 100%;border-bottom: 1px solid gray;flex-grow: 1;}#sk-container-id-8 div.sk-label:hover label.sk-toggleable__label {background-color: #d4ebff;}#sk-container-id-8 div.sk-serial::before {content: \"\";position: absolute;border-left: 1px solid gray;box-sizing: border-box;top: 0;bottom: 0;left: 50%;z-index: 0;}#sk-container-id-8 div.sk-serial {display: flex;flex-direction: column;align-items: center;background-color: white;padding-right: 0.2em;padding-left: 0.2em;position: relative;}#sk-container-id-8 div.sk-item {position: relative;z-index: 1;}#sk-container-id-8 div.sk-parallel {display: flex;align-items: stretch;justify-content: center;background-color: white;position: relative;}#sk-container-id-8 div.sk-item::before, #sk-container-id-8 div.sk-parallel-item::before {content: \"\";position: absolute;border-left: 1px solid gray;box-sizing: border-box;top: 0;bottom: 0;left: 50%;z-index: -1;}#sk-container-id-8 div.sk-parallel-item {display: flex;flex-direction: column;z-index: 1;position: relative;background-color: white;}#sk-container-id-8 div.sk-parallel-item:first-child::after {align-self: flex-end;width: 50%;}#sk-container-id-8 div.sk-parallel-item:last-child::after {align-self: flex-start;width: 50%;}#sk-container-id-8 div.sk-parallel-item:only-child::after {width: 0;}#sk-container-id-8 div.sk-dashed-wrapped {border: 1px dashed gray;margin: 0 0.4em 0.5em 0.4em;box-sizing: border-box;padding-bottom: 0.4em;background-color: white;}#sk-container-id-8 div.sk-label label {font-family: monospace;font-weight: bold;display: inline-block;line-height: 1.2em;}#sk-container-id-8 div.sk-label-container {text-align: center;}#sk-container-id-8 div.sk-container {/* jupyter's `normalize.less` sets `[hidden] { display: none; }` but bootstrap.min.css set `[hidden] { display: none !important; }` so we also need the `!important` here to be able to override the default hidden behavior on the sphinx rendered scikit-learn.org. See: https://github.com/scikit-learn/scikit-learn/issues/21755 */display: inline-block !important;position: relative;}#sk-container-id-8 div.sk-text-repr-fallback {display: none;}</style><div id=\"sk-container-id-8\" class=\"sk-top-container\"><div class=\"sk-text-repr-fallback\"><pre>LinearRegression()</pre><b>In a Jupyter environment, please rerun this cell to show the HTML representation or trust the notebook. <br />On GitHub, the HTML representation is unable to render, please try loading this page with nbviewer.org.</b></div><div class=\"sk-container\" hidden><div class=\"sk-item\"><div class=\"sk-estimator sk-toggleable\"><input class=\"sk-toggleable__control sk-hidden--visually\" id=\"sk-estimator-id-8\" type=\"checkbox\" checked><label for=\"sk-estimator-id-8\" class=\"sk-toggleable__label sk-toggleable__label-arrow\">LinearRegression</label><div class=\"sk-toggleable__content\"><pre>LinearRegression()</pre></div></div></div></div></div>"
      ],
      "text/plain": [
       "LinearRegression()"
      ]
     },
     "execution_count": 29,
     "metadata": {},
     "output_type": "execute_result"
    }
   ],
   "source": [
    "## define and fit linear regression model\n",
    "model = LinearRegression()\n",
    "model.fit(X_train, y_train)"
   ]
  },
  {
   "cell_type": "code",
   "execution_count": 30,
   "id": "46062807-a51e-4135-bd45-a08d5a6d7e4e",
   "metadata": {
    "tags": []
   },
   "outputs": [
    {
     "data": {
      "text/plain": [
       "array([-0.62792962, -1.99509066,  1.9909261 ,  0.4124603 ,  3.59095802,\n",
       "       -1.38075799, -0.59359119, -2.03827978,  2.45376812, -2.03209718,\n",
       "       -0.53594378,  0.68015658, -0.1442128 , -0.01323475, -0.95155437,\n",
       "        0.96478912])"
      ]
     },
     "execution_count": 30,
     "metadata": {},
     "output_type": "execute_result"
    }
   ],
   "source": [
    "# inspect coefficients\n",
    "model.coef_"
   ]
  },
  {
   "cell_type": "code",
   "execution_count": 31,
   "id": "13f9cb50-683d-4a6b-a7cc-829a5f417937",
   "metadata": {
    "tags": []
   },
   "outputs": [],
   "source": [
    "# some slopes are quite small; use LASSO regression to really see what factors are truly important"
   ]
  },
  {
   "cell_type": "code",
   "execution_count": 32,
   "id": "a978bdfc-89fb-4d73-8849-b332d6938882",
   "metadata": {
    "tags": []
   },
   "outputs": [
    {
     "data": {
      "text/html": [
       "<style>#sk-container-id-9 {color: black;}#sk-container-id-9 pre{padding: 0;}#sk-container-id-9 div.sk-toggleable {background-color: white;}#sk-container-id-9 label.sk-toggleable__label {cursor: pointer;display: block;width: 100%;margin-bottom: 0;padding: 0.3em;box-sizing: border-box;text-align: center;}#sk-container-id-9 label.sk-toggleable__label-arrow:before {content: \"▸\";float: left;margin-right: 0.25em;color: #696969;}#sk-container-id-9 label.sk-toggleable__label-arrow:hover:before {color: black;}#sk-container-id-9 div.sk-estimator:hover label.sk-toggleable__label-arrow:before {color: black;}#sk-container-id-9 div.sk-toggleable__content {max-height: 0;max-width: 0;overflow: hidden;text-align: left;background-color: #f0f8ff;}#sk-container-id-9 div.sk-toggleable__content pre {margin: 0.2em;color: black;border-radius: 0.25em;background-color: #f0f8ff;}#sk-container-id-9 input.sk-toggleable__control:checked~div.sk-toggleable__content {max-height: 200px;max-width: 100%;overflow: auto;}#sk-container-id-9 input.sk-toggleable__control:checked~label.sk-toggleable__label-arrow:before {content: \"▾\";}#sk-container-id-9 div.sk-estimator input.sk-toggleable__control:checked~label.sk-toggleable__label {background-color: #d4ebff;}#sk-container-id-9 div.sk-label input.sk-toggleable__control:checked~label.sk-toggleable__label {background-color: #d4ebff;}#sk-container-id-9 input.sk-hidden--visually {border: 0;clip: rect(1px 1px 1px 1px);clip: rect(1px, 1px, 1px, 1px);height: 1px;margin: -1px;overflow: hidden;padding: 0;position: absolute;width: 1px;}#sk-container-id-9 div.sk-estimator {font-family: monospace;background-color: #f0f8ff;border: 1px dotted black;border-radius: 0.25em;box-sizing: border-box;margin-bottom: 0.5em;}#sk-container-id-9 div.sk-estimator:hover {background-color: #d4ebff;}#sk-container-id-9 div.sk-parallel-item::after {content: \"\";width: 100%;border-bottom: 1px solid gray;flex-grow: 1;}#sk-container-id-9 div.sk-label:hover label.sk-toggleable__label {background-color: #d4ebff;}#sk-container-id-9 div.sk-serial::before {content: \"\";position: absolute;border-left: 1px solid gray;box-sizing: border-box;top: 0;bottom: 0;left: 50%;z-index: 0;}#sk-container-id-9 div.sk-serial {display: flex;flex-direction: column;align-items: center;background-color: white;padding-right: 0.2em;padding-left: 0.2em;position: relative;}#sk-container-id-9 div.sk-item {position: relative;z-index: 1;}#sk-container-id-9 div.sk-parallel {display: flex;align-items: stretch;justify-content: center;background-color: white;position: relative;}#sk-container-id-9 div.sk-item::before, #sk-container-id-9 div.sk-parallel-item::before {content: \"\";position: absolute;border-left: 1px solid gray;box-sizing: border-box;top: 0;bottom: 0;left: 50%;z-index: -1;}#sk-container-id-9 div.sk-parallel-item {display: flex;flex-direction: column;z-index: 1;position: relative;background-color: white;}#sk-container-id-9 div.sk-parallel-item:first-child::after {align-self: flex-end;width: 50%;}#sk-container-id-9 div.sk-parallel-item:last-child::after {align-self: flex-start;width: 50%;}#sk-container-id-9 div.sk-parallel-item:only-child::after {width: 0;}#sk-container-id-9 div.sk-dashed-wrapped {border: 1px dashed gray;margin: 0 0.4em 0.5em 0.4em;box-sizing: border-box;padding-bottom: 0.4em;background-color: white;}#sk-container-id-9 div.sk-label label {font-family: monospace;font-weight: bold;display: inline-block;line-height: 1.2em;}#sk-container-id-9 div.sk-label-container {text-align: center;}#sk-container-id-9 div.sk-container {/* jupyter's `normalize.less` sets `[hidden] { display: none; }` but bootstrap.min.css set `[hidden] { display: none !important; }` so we also need the `!important` here to be able to override the default hidden behavior on the sphinx rendered scikit-learn.org. See: https://github.com/scikit-learn/scikit-learn/issues/21755 */display: inline-block !important;position: relative;}#sk-container-id-9 div.sk-text-repr-fallback {display: none;}</style><div id=\"sk-container-id-9\" class=\"sk-top-container\"><div class=\"sk-text-repr-fallback\"><pre>LassoCV(alphas=array([0.001, 0.002, 0.003, 0.004, 0.005, 0.006, 0.007, 0.008, 0.009,\n",
       "       0.01 , 0.011, 0.012, 0.013, 0.014, 0.015, 0.016, 0.017, 0.018,\n",
       "       0.019, 0.02 , 0.021, 0.022, 0.023, 0.024, 0.025, 0.026, 0.027,\n",
       "       0.028, 0.029, 0.03 , 0.031, 0.032, 0.033, 0.034, 0.035, 0.036,\n",
       "       0.037, 0.038, 0.039, 0.04 , 0.041, 0.042, 0.043, 0.044, 0.045,\n",
       "       0.046, 0.047, 0.048, 0.049, 0.05 , 0.051, 0.052, 0.053, 0.054,\n",
       "       0.055, 0.056, 0.057, 0.058, 0.059, 0.06 , 0.061, 0.062, 0.063,\n",
       "       0.064, 0.065, 0.066, 0.067, 0.068, 0.069, 0.07 , 0.071, 0.072,\n",
       "       0.073, 0.074, 0.075, 0.076, 0.077, 0.078, 0.079, 0.08 , 0.081,\n",
       "       0.082, 0.083, 0.084, 0.085, 0.086, 0.087, 0.088, 0.089, 0.09 ,\n",
       "       0.091, 0.092, 0.093, 0.094, 0.095, 0.096, 0.097, 0.098, 0.099]),\n",
       "        cv=RepeatedKFold(n_repeats=5, n_splits=5, random_state=0),\n",
       "        max_iter=10000)</pre><b>In a Jupyter environment, please rerun this cell to show the HTML representation or trust the notebook. <br />On GitHub, the HTML representation is unable to render, please try loading this page with nbviewer.org.</b></div><div class=\"sk-container\" hidden><div class=\"sk-item\"><div class=\"sk-estimator sk-toggleable\"><input class=\"sk-toggleable__control sk-hidden--visually\" id=\"sk-estimator-id-9\" type=\"checkbox\" checked><label for=\"sk-estimator-id-9\" class=\"sk-toggleable__label sk-toggleable__label-arrow\">LassoCV</label><div class=\"sk-toggleable__content\"><pre>LassoCV(alphas=array([0.001, 0.002, 0.003, 0.004, 0.005, 0.006, 0.007, 0.008, 0.009,\n",
       "       0.01 , 0.011, 0.012, 0.013, 0.014, 0.015, 0.016, 0.017, 0.018,\n",
       "       0.019, 0.02 , 0.021, 0.022, 0.023, 0.024, 0.025, 0.026, 0.027,\n",
       "       0.028, 0.029, 0.03 , 0.031, 0.032, 0.033, 0.034, 0.035, 0.036,\n",
       "       0.037, 0.038, 0.039, 0.04 , 0.041, 0.042, 0.043, 0.044, 0.045,\n",
       "       0.046, 0.047, 0.048, 0.049, 0.05 , 0.051, 0.052, 0.053, 0.054,\n",
       "       0.055, 0.056, 0.057, 0.058, 0.059, 0.06 , 0.061, 0.062, 0.063,\n",
       "       0.064, 0.065, 0.066, 0.067, 0.068, 0.069, 0.07 , 0.071, 0.072,\n",
       "       0.073, 0.074, 0.075, 0.076, 0.077, 0.078, 0.079, 0.08 , 0.081,\n",
       "       0.082, 0.083, 0.084, 0.085, 0.086, 0.087, 0.088, 0.089, 0.09 ,\n",
       "       0.091, 0.092, 0.093, 0.094, 0.095, 0.096, 0.097, 0.098, 0.099]),\n",
       "        cv=RepeatedKFold(n_repeats=5, n_splits=5, random_state=0),\n",
       "        max_iter=10000)</pre></div></div></div></div></div>"
      ],
      "text/plain": [
       "LassoCV(alphas=array([0.001, 0.002, 0.003, 0.004, 0.005, 0.006, 0.007, 0.008, 0.009,\n",
       "       0.01 , 0.011, 0.012, 0.013, 0.014, 0.015, 0.016, 0.017, 0.018,\n",
       "       0.019, 0.02 , 0.021, 0.022, 0.023, 0.024, 0.025, 0.026, 0.027,\n",
       "       0.028, 0.029, 0.03 , 0.031, 0.032, 0.033, 0.034, 0.035, 0.036,\n",
       "       0.037, 0.038, 0.039, 0.04 , 0.041, 0.042, 0.043, 0.044, 0.045,\n",
       "       0.046, 0.047, 0.048, 0.049, 0.05 , 0.051, 0.052, 0.053, 0.054,\n",
       "       0.055, 0.056, 0.057, 0.058, 0.059, 0.06 , 0.061, 0.062, 0.063,\n",
       "       0.064, 0.065, 0.066, 0.067, 0.068, 0.069, 0.07 , 0.071, 0.072,\n",
       "       0.073, 0.074, 0.075, 0.076, 0.077, 0.078, 0.079, 0.08 , 0.081,\n",
       "       0.082, 0.083, 0.084, 0.085, 0.086, 0.087, 0.088, 0.089, 0.09 ,\n",
       "       0.091, 0.092, 0.093, 0.094, 0.095, 0.096, 0.097, 0.098, 0.099]),\n",
       "        cv=RepeatedKFold(n_repeats=5, n_splits=5, random_state=0),\n",
       "        max_iter=10000)"
      ]
     },
     "execution_count": 32,
     "metadata": {},
     "output_type": "execute_result"
    }
   ],
   "source": [
    "## perform LASSO regression\n",
    "cv = RepeatedKFold(n_splits=5, n_repeats=5, random_state=0)\n",
    "model_lasso_cv = LassoCV(alphas=np.arange(0.001, 0.1, 0.001), max_iter=10000, cv=cv)\n",
    "model_lasso_cv.fit(X_train, y_train)"
   ]
  },
  {
   "cell_type": "code",
   "execution_count": 33,
   "id": "32164368-99c0-4cac-be34-52943290d00a",
   "metadata": {
    "tags": []
   },
   "outputs": [
    {
     "data": {
      "text/plain": [
       "0.013000000000000001"
      ]
     },
     "execution_count": 33,
     "metadata": {},
     "output_type": "execute_result"
    }
   ],
   "source": [
    "# look at optimal alpha value\n",
    "model_lasso_cv.alpha_"
   ]
  },
  {
   "cell_type": "code",
   "execution_count": 34,
   "id": "54b46b38-d67e-4702-a069-494b9c5f46a2",
   "metadata": {
    "tags": []
   },
   "outputs": [
    {
     "data": {
      "text/plain": [
       "array([-0.59789306, -1.90004367,  1.91052252,  0.36658141,  4.30850425,\n",
       "       -0.34176156,  0.12592925, -1.15652993,  3.23475562, -1.07344276,\n",
       "       -0.35529559,  0.71995334, -0.        ,  0.        , -0.69216397,\n",
       "        0.9531816 ])"
      ]
     },
     "execution_count": 34,
     "metadata": {},
     "output_type": "execute_result"
    }
   ],
   "source": [
    "# inspect coefficients of regularized model\n",
    "model_lasso_cv.coef_"
   ]
  },
  {
   "cell_type": "code",
   "execution_count": 35,
   "id": "0d1e4f6b-7265-47a8-ab2d-16adca4c7c0c",
   "metadata": {
    "tags": []
   },
   "outputs": [
    {
     "name": "stdout",
     "output_type": "stream",
     "text": [
      "3.999113993805962\n",
      "0.3215225218053662\n"
     ]
    }
   ],
   "source": [
    "# indeed, some factors are now 0; let's see how this model performs\n",
    "preds = model_lasso_cv.predict(X_test)\n",
    "print(np.sqrt(mean_squared_error(y_test, preds)))\n",
    "print(r2_score(y_test, preds))"
   ]
  },
  {
   "cell_type": "code",
   "execution_count": 36,
   "id": "417e752d-481f-4ee2-b8d3-0c22ad4b31f1",
   "metadata": {
    "tags": []
   },
   "outputs": [],
   "source": [
    "# the model is abysmal, though we can still use the coefficients for interpretation"
   ]
  },
  {
   "cell_type": "code",
   "execution_count": 37,
   "id": "ea0f3716-8d62-4505-8317-ac7e28a5c0ee",
   "metadata": {},
   "outputs": [],
   "source": [
    "## try a classification model - decision tree as the important variables are all categorical"
   ]
  },
  {
   "cell_type": "code",
   "execution_count": 41,
   "id": "2a963659-cb1b-4e3e-a636-e40228e9e006",
   "metadata": {
    "tags": []
   },
   "outputs": [],
   "source": [
    "# create a binary wage variable: above and not above the median\n",
    "df[\"above_median\"] = df.wage.apply(lambda x: 1 if x >= df.wage.median() else 0)"
   ]
  },
  {
   "cell_type": "code",
   "execution_count": 42,
   "id": "498e67bd-b747-41ec-9fa1-2ca2d1294e04",
   "metadata": {
    "tags": []
   },
   "outputs": [],
   "source": [
    "# males seem to have higher median wage\n",
    "# people not in south seem to have higher median wages\n",
    "# union members seem to have higher median wages\n",
    "# occupation and wage: 1=5, 3=6, 2=4 (highest median to lowest median)\n",
    "# sectors 1 and 2 seem to have (equivalently) higher median wages compared to sector 0\n",
    "# married people seem to have higher median wages than unmarried"
   ]
  },
  {
   "cell_type": "code",
   "execution_count": 55,
   "id": "7c5b17bb-3d5f-4ffa-a24a-3b394737ab18",
   "metadata": {
    "tags": []
   },
   "outputs": [],
   "source": [
    "## define train and test splits\n",
    "X = df.loc[:, [\"sex\", \"south\", \"union\", \"occupation\", \"sector\", \"marr\"]]\n",
    "y = df.above_median\n",
    "\n",
    "X_train, X_test, y_train, y_test = train_test_split(X, y, test_size=0.2, random_state=0)"
   ]
  },
  {
   "cell_type": "code",
   "execution_count": 56,
   "id": "b7bde779-4a1a-4d09-b071-15aa8f12db54",
   "metadata": {
    "tags": []
   },
   "outputs": [],
   "source": [
    "## train a decision tree"
   ]
  },
  {
   "cell_type": "code",
   "execution_count": 57,
   "id": "c0589352-796a-493a-b8e2-4d4a400ec4b5",
   "metadata": {
    "tags": []
   },
   "outputs": [
    {
     "data": {
      "text/plain": [
       "<Axes: xlabel='above_median', ylabel='count'>"
      ]
     },
     "execution_count": 57,
     "metadata": {},
     "output_type": "execute_result"
    },
    {
     "data": {
      "image/png": "[encoded data removed]",
      "text/plain": [
       "<Figure size 640x480 with 1 Axes>"
      ]
     },
     "metadata": {},
     "output_type": "display_data"
    }
   ],
   "source": [
    "# inspect \"imbalance\" of response variable\n",
    "sns.countplot(x=df.above_median)"
   ]
  },
  {
   "cell_type": "code",
   "execution_count": 58,
   "id": "78eb481a-1b05-4ff0-8eef-dc0c710db6cd",
   "metadata": {
    "tags": []
   },
   "outputs": [],
   "source": [
    "# as there is practically no imbalance, it doesn't matter if we use gini or entropy"
   ]
  },
  {
   "cell_type": "code",
   "execution_count": 59,
   "id": "99db5359-9dd1-410c-9ee8-3829d435003d",
   "metadata": {
    "tags": []
   },
   "outputs": [
    {
     "data": {
      "text/html": [
       "<style>#sk-container-id-11 {color: black;}#sk-container-id-11 pre{padding: 0;}#sk-container-id-11 div.sk-toggleable {background-color: white;}#sk-container-id-11 label.sk-toggleable__label {cursor: pointer;display: block;width: 100%;margin-bottom: 0;padding: 0.3em;box-sizing: border-box;text-align: center;}#sk-container-id-11 label.sk-toggleable__label-arrow:before {content: \"▸\";float: left;margin-right: 0.25em;color: #696969;}#sk-container-id-11 label.sk-toggleable__label-arrow:hover:before {color: black;}#sk-container-id-11 div.sk-estimator:hover label.sk-toggleable__label-arrow:before {color: black;}#sk-container-id-11 div.sk-toggleable__content {max-height: 0;max-width: 0;overflow: hidden;text-align: left;background-color: #f0f8ff;}#sk-container-id-11 div.sk-toggleable__content pre {margin: 0.2em;color: black;border-radius: 0.25em;background-color: #f0f8ff;}#sk-container-id-11 input.sk-toggleable__control:checked~div.sk-toggleable__content {max-height: 200px;max-width: 100%;overflow: auto;}#sk-container-id-11 input.sk-toggleable__control:checked~label.sk-toggleable__label-arrow:before {content: \"▾\";}#sk-container-id-11 div.sk-estimator input.sk-toggleable__control:checked~label.sk-toggleable__label {background-color: #d4ebff;}#sk-container-id-11 div.sk-label input.sk-toggleable__control:checked~label.sk-toggleable__label {background-color: #d4ebff;}#sk-container-id-11 input.sk-hidden--visually {border: 0;clip: rect(1px 1px 1px 1px);clip: rect(1px, 1px, 1px, 1px);height: 1px;margin: -1px;overflow: hidden;padding: 0;position: absolute;width: 1px;}#sk-container-id-11 div.sk-estimator {font-family: monospace;background-color: #f0f8ff;border: 1px dotted black;border-radius: 0.25em;box-sizing: border-box;margin-bottom: 0.5em;}#sk-container-id-11 div.sk-estimator:hover {background-color: #d4ebff;}#sk-container-id-11 div.sk-parallel-item::after {content: \"\";width: 100%;border-bottom: 1px solid gray;flex-grow: 1;}#sk-container-id-11 div.sk-label:hover label.sk-toggleable__label {background-color: #d4ebff;}#sk-container-id-11 div.sk-serial::before {content: \"\";position: absolute;border-left: 1px solid gray;box-sizing: border-box;top: 0;bottom: 0;left: 50%;z-index: 0;}#sk-container-id-11 div.sk-serial {display: flex;flex-direction: column;align-items: center;background-color: white;padding-right: 0.2em;padding-left: 0.2em;position: relative;}#sk-container-id-11 div.sk-item {position: relative;z-index: 1;}#sk-container-id-11 div.sk-parallel {display: flex;align-items: stretch;justify-content: center;background-color: white;position: relative;}#sk-container-id-11 div.sk-item::before, #sk-container-id-11 div.sk-parallel-item::before {content: \"\";position: absolute;border-left: 1px solid gray;box-sizing: border-box;top: 0;bottom: 0;left: 50%;z-index: -1;}#sk-container-id-11 div.sk-parallel-item {display: flex;flex-direction: column;z-index: 1;position: relative;background-color: white;}#sk-container-id-11 div.sk-parallel-item:first-child::after {align-self: flex-end;width: 50%;}#sk-container-id-11 div.sk-parallel-item:last-child::after {align-self: flex-start;width: 50%;}#sk-container-id-11 div.sk-parallel-item:only-child::after {width: 0;}#sk-container-id-11 div.sk-dashed-wrapped {border: 1px dashed gray;margin: 0 0.4em 0.5em 0.4em;box-sizing: border-box;padding-bottom: 0.4em;background-color: white;}#sk-container-id-11 div.sk-label label {font-family: monospace;font-weight: bold;display: inline-block;line-height: 1.2em;}#sk-container-id-11 div.sk-label-container {text-align: center;}#sk-container-id-11 div.sk-container {/* jupyter's `normalize.less` sets `[hidden] { display: none; }` but bootstrap.min.css set `[hidden] { display: none !important; }` so we also need the `!important` here to be able to override the default hidden behavior on the sphinx rendered scikit-learn.org. See: https://github.com/scikit-learn/scikit-learn/issues/21755 */display: inline-block !important;position: relative;}#sk-container-id-11 div.sk-text-repr-fallback {display: none;}</style><div id=\"sk-container-id-11\" class=\"sk-top-container\"><div class=\"sk-text-repr-fallback\"><pre>DecisionTreeClassifier()</pre><b>In a Jupyter environment, please rerun this cell to show the HTML representation or trust the notebook. <br />On GitHub, the HTML representation is unable to render, please try loading this page with nbviewer.org.</b></div><div class=\"sk-container\" hidden><div class=\"sk-item\"><div class=\"sk-estimator sk-toggleable\"><input class=\"sk-toggleable__control sk-hidden--visually\" id=\"sk-estimator-id-11\" type=\"checkbox\" checked><label for=\"sk-estimator-id-11\" class=\"sk-toggleable__label sk-toggleable__label-arrow\">DecisionTreeClassifier</label><div class=\"sk-toggleable__content\"><pre>DecisionTreeClassifier()</pre></div></div></div></div></div>"
      ],
      "text/plain": [
       "DecisionTreeClassifier()"
      ]
     },
     "execution_count": 59,
     "metadata": {},
     "output_type": "execute_result"
    }
   ],
   "source": [
    "model = DecisionTreeClassifier()\n",
    "model.fit(X_train, y_train)"
   ]
  },
  {
   "cell_type": "code",
   "execution_count": 60,
   "id": "aaa71363-5135-4fb6-a361-c5c20eef13db",
   "metadata": {
    "tags": []
   },
   "outputs": [
    {
     "data": {
      "text/plain": [
       "array([[44,  9],\n",
       "       [24, 30]], dtype=int64)"
      ]
     },
     "execution_count": 60,
     "metadata": {},
     "output_type": "execute_result"
    }
   ],
   "source": [
    "# see model accuracy\n",
    "preds = model.predict(X_test)\n",
    "confusion_matrix(y_test, preds)"
   ]
  },
  {
   "cell_type": "code",
   "execution_count": 62,
   "id": "cb9d23bf-3f42-4802-ab15-00616fddb1b6",
   "metadata": {
    "tags": []
   },
   "outputs": [],
   "source": [
    "# precision = 44 / 53 = 0.830\n",
    "# recall = 44/68 = 0.647\n",
    "# f1-score = 0.727\n",
    "# misclassification rate = 33/107 = 0.308"
   ]
  },
  {
   "cell_type": "code",
   "execution_count": 63,
   "id": "6a13b082-40cb-47a9-b4a0-7a7c1c37c965",
   "metadata": {
    "tags": []
   },
   "outputs": [],
   "source": [
    "# while the misclassification rate is somewhat high, all measures of accuracy are quite good and the model is reasonable accurate\n",
    "# let's inspect the structure of the tree"
   ]
  },
  {
   "cell_type": "code",
   "execution_count": 67,
   "id": "d48f3792-63b5-4d35-a056-719e2a21d851",
   "metadata": {
    "tags": []
   },
   "outputs": [
    {
     "data": {
      "text/plain": [
       "[Text(0.5556592039800995, 0.9545454545454546, 'x[2] <= 0.5\\ngini = 0.5\\nsamples = 427\\nvalue = [213, 214]'),\n",
       " Text(0.27425373134328357, 0.8636363636363636, 'x[3] <= 1.5\\ngini = 0.494\\nsamples = 347\\nvalue = [193, 154]'),\n",
       " Text(0.0845771144278607, 0.7727272727272727, 'x[4] <= 0.5\\ngini = 0.414\\nsamples = 41\\nvalue = [12, 29]'),\n",
       " Text(0.07462686567164178, 0.6818181818181818, 'x[0] <= 0.5\\ngini = 0.438\\nsamples = 37\\nvalue = [12, 25]'),\n",
       " Text(0.03980099502487562, 0.5909090909090909, 'x[5] <= 0.5\\ngini = 0.386\\nsamples = 23\\nvalue = [6, 17]'),\n",
       " Text(0.01990049751243781, 0.5, 'x[1] <= 0.5\\ngini = 0.444\\nsamples = 9\\nvalue = [3, 6]'),\n",
       " Text(0.009950248756218905, 0.4090909090909091, 'gini = 0.408\\nsamples = 7\\nvalue = [2, 5]'),\n",
       " Text(0.029850746268656716, 0.4090909090909091, 'gini = 0.5\\nsamples = 2\\nvalue = [1, 1]'),\n",
       " Text(0.05970149253731343, 0.5, 'x[1] <= 0.5\\ngini = 0.337\\nsamples = 14\\nvalue = [3, 11]'),\n",
       " Text(0.04975124378109453, 0.4090909090909091, 'gini = 0.346\\nsamples = 9\\nvalue = [2, 7]'),\n",
       " Text(0.06965174129353234, 0.4090909090909091, 'gini = 0.32\\nsamples = 5\\nvalue = [1, 4]'),\n",
       " Text(0.10945273631840796, 0.5909090909090909, 'x[1] <= 0.5\\ngini = 0.49\\nsamples = 14\\nvalue = [6, 8]'),\n",
       " Text(0.09950248756218906, 0.5, 'x[5] <= 0.5\\ngini = 0.496\\nsamples = 11\\nvalue = [6, 5]'),\n",
       " Text(0.08955223880597014, 0.4090909090909091, 'gini = 0.0\\nsamples = 1\\nvalue = [0, 1]'),\n",
       " Text(0.10945273631840796, 0.4090909090909091, 'gini = 0.48\\nsamples = 10\\nvalue = [6, 4]'),\n",
       " Text(0.11940298507462686, 0.5, 'gini = 0.0\\nsamples = 3\\nvalue = [0, 3]'),\n",
       " Text(0.0945273631840796, 0.6818181818181818, 'gini = 0.0\\nsamples = 4\\nvalue = [0, 4]'),\n",
       " Text(0.4639303482587065, 0.7727272727272727, 'x[1] <= 0.5\\ngini = 0.483\\nsamples = 306\\nvalue = [181, 125]'),\n",
       " Text(0.31467661691542287, 0.6818181818181818, 'x[3] <= 4.5\\ngini = 0.499\\nsamples = 205\\nvalue = [107, 98]'),\n",
       " Text(0.22263681592039802, 0.5909090909090909, 'x[4] <= 0.5\\ngini = 0.471\\nsamples = 92\\nvalue = [57, 35]'),\n",
       " Text(0.17164179104477612, 0.5, 'x[5] <= 0.5\\ngini = 0.444\\nsamples = 81\\nvalue = [54, 27]'),\n",
       " Text(0.12935323383084577, 0.4090909090909091, 'x[3] <= 3.5\\ngini = 0.342\\nsamples = 32\\nvalue = [25, 7]'),\n",
       " Text(0.1044776119402985, 0.3181818181818182, 'x[0] <= 0.5\\ngini = 0.432\\nsamples = 19\\nvalue = [13, 6]'),\n",
       " Text(0.0845771144278607, 0.22727272727272727, 'x[3] <= 2.5\\ngini = 0.245\\nsamples = 7\\nvalue = [6, 1]'),\n",
       " Text(0.07462686567164178, 0.13636363636363635, 'gini = 0.444\\nsamples = 3\\nvalue = [2, 1]'),\n",
       " Text(0.0945273631840796, 0.13636363636363635, 'gini = 0.0\\nsamples = 4\\nvalue = [4, 0]'),\n",
       " Text(0.12437810945273632, 0.22727272727272727, 'x[3] <= 2.5\\ngini = 0.486\\nsamples = 12\\nvalue = [7, 5]'),\n",
       " Text(0.11442786069651742, 0.13636363636363635, 'gini = 0.0\\nsamples = 2\\nvalue = [2, 0]'),\n",
       " Text(0.13432835820895522, 0.13636363636363635, 'gini = 0.5\\nsamples = 10\\nvalue = [5, 5]'),\n",
       " Text(0.15422885572139303, 0.3181818181818182, 'x[0] <= 0.5\\ngini = 0.142\\nsamples = 13\\nvalue = [12, 1]'),\n",
       " Text(0.14427860696517414, 0.22727272727272727, 'gini = 0.0\\nsamples = 3\\nvalue = [3, 0]'),\n",
       " Text(0.16417910447761194, 0.22727272727272727, 'gini = 0.18\\nsamples = 10\\nvalue = [9, 1]'),\n",
       " Text(0.21393034825870647, 0.4090909090909091, 'x[0] <= 0.5\\ngini = 0.483\\nsamples = 49\\nvalue = [29, 20]'),\n",
       " Text(0.19402985074626866, 0.3181818181818182, 'x[3] <= 3.5\\ngini = 0.498\\nsamples = 15\\nvalue = [8, 7]'),\n",
       " Text(0.18407960199004975, 0.22727272727272727, 'x[3] <= 2.5\\ngini = 0.494\\nsamples = 9\\nvalue = [4, 5]'),\n",
       " Text(0.17412935323383086, 0.13636363636363635, 'gini = 0.49\\nsamples = 7\\nvalue = [3, 4]'),\n",
       " Text(0.19402985074626866, 0.13636363636363635, 'gini = 0.5\\nsamples = 2\\nvalue = [1, 1]'),\n",
       " Text(0.20398009950248755, 0.22727272727272727, 'gini = 0.444\\nsamples = 6\\nvalue = [4, 2]'),\n",
       " Text(0.23383084577114427, 0.3181818181818182, 'x[3] <= 2.5\\ngini = 0.472\\nsamples = 34\\nvalue = [21, 13]'),\n",
       " Text(0.22388059701492538, 0.22727272727272727, 'gini = 0.0\\nsamples = 4\\nvalue = [4, 0]'),\n",
       " Text(0.24378109452736318, 0.22727272727272727, 'x[3] <= 3.5\\ngini = 0.491\\nsamples = 30\\nvalue = [17, 13]'),\n",
       " Text(0.23383084577114427, 0.13636363636363635, 'gini = 0.498\\nsamples = 17\\nvalue = [9, 8]'),\n",
       " Text(0.2537313432835821, 0.13636363636363635, 'gini = 0.473\\nsamples = 13\\nvalue = [8, 5]'),\n",
       " Text(0.2736318407960199, 0.5, 'x[3] <= 3.5\\ngini = 0.397\\nsamples = 11\\nvalue = [3, 8]'),\n",
       " Text(0.263681592039801, 0.4090909090909091, 'x[0] <= 0.5\\ngini = 0.32\\nsamples = 10\\nvalue = [2, 8]'),\n",
       " Text(0.2537313432835821, 0.3181818181818182, 'gini = 0.0\\nsamples = 2\\nvalue = [0, 2]'),\n",
       " Text(0.2736318407960199, 0.3181818181818182, 'x[3] <= 2.5\\ngini = 0.375\\nsamples = 8\\nvalue = [2, 6]'),\n",
       " Text(0.263681592039801, 0.22727272727272727, 'gini = 0.0\\nsamples = 1\\nvalue = [1, 0]'),\n",
       " Text(0.2835820895522388, 0.22727272727272727, 'x[5] <= 0.5\\ngini = 0.245\\nsamples = 7\\nvalue = [1, 6]'),\n",
       " Text(0.2736318407960199, 0.13636363636363635, 'gini = 0.0\\nsamples = 2\\nvalue = [0, 2]'),\n",
       " Text(0.2935323383084577, 0.13636363636363635, 'x[4] <= 1.5\\ngini = 0.32\\nsamples = 5\\nvalue = [1, 4]'),\n",
       " Text(0.2835820895522388, 0.045454545454545456, 'gini = 0.375\\nsamples = 4\\nvalue = [1, 3]'),\n",
       " Text(0.3034825870646766, 0.045454545454545456, 'gini = 0.0\\nsamples = 1\\nvalue = [0, 1]'),\n",
       " Text(0.2835820895522388, 0.4090909090909091, 'gini = 0.0\\nsamples = 1\\nvalue = [1, 0]'),\n",
       " Text(0.40671641791044777, 0.5909090909090909, 'x[3] <= 5.5\\ngini = 0.493\\nsamples = 113\\nvalue = [50, 63]'),\n",
       " Text(0.36318407960199006, 0.5, 'x[4] <= 1.5\\ngini = 0.415\\nsamples = 51\\nvalue = [15, 36]'),\n",
       " Text(0.35323383084577115, 0.4090909090909091, 'x[4] <= 0.5\\ngini = 0.403\\nsamples = 50\\nvalue = [14, 36]'),\n",
       " Text(0.34328358208955223, 0.3181818181818182, 'x[0] <= 0.5\\ngini = 0.45\\nsamples = 41\\nvalue = [14, 27]'),\n",
       " Text(0.32338308457711445, 0.22727272727272727, 'x[5] <= 0.5\\ngini = 0.444\\nsamples = 15\\nvalue = [5, 10]'),\n",
       " Text(0.31343283582089554, 0.13636363636363635, 'gini = 0.444\\nsamples = 3\\nvalue = [1, 2]'),\n",
       " Text(0.3333333333333333, 0.13636363636363635, 'gini = 0.444\\nsamples = 12\\nvalue = [4, 8]'),\n",
       " Text(0.36318407960199006, 0.22727272727272727, 'x[5] <= 0.5\\ngini = 0.453\\nsamples = 26\\nvalue = [9, 17]'),\n",
       " Text(0.35323383084577115, 0.13636363636363635, 'gini = 0.444\\nsamples = 9\\nvalue = [3, 6]'),\n",
       " Text(0.373134328358209, 0.13636363636363635, 'gini = 0.457\\nsamples = 17\\nvalue = [6, 11]'),\n",
       " Text(0.36318407960199006, 0.3181818181818182, 'gini = 0.0\\nsamples = 9\\nvalue = [0, 9]'),\n",
       " Text(0.373134328358209, 0.4090909090909091, 'gini = 0.0\\nsamples = 1\\nvalue = [1, 0]'),\n",
       " Text(0.4502487562189055, 0.5, 'x[0] <= 0.5\\ngini = 0.492\\nsamples = 62\\nvalue = [35, 27]'),\n",
       " Text(0.417910447761194, 0.4090909090909091, 'x[4] <= 0.5\\ngini = 0.5\\nsamples = 48\\nvalue = [24, 24]'),\n",
       " Text(0.39303482587064675, 0.3181818181818182, 'x[5] <= 0.5\\ngini = 0.466\\nsamples = 27\\nvalue = [17, 10]'),\n",
       " Text(0.38308457711442784, 0.22727272727272727, 'gini = 0.459\\nsamples = 14\\nvalue = [9, 5]'),\n",
       " Text(0.40298507462686567, 0.22727272727272727, 'gini = 0.473\\nsamples = 13\\nvalue = [8, 5]'),\n",
       " Text(0.4427860696517413, 0.3181818181818182, 'x[5] <= 0.5\\ngini = 0.444\\nsamples = 21\\nvalue = [7, 14]'),\n",
       " Text(0.4228855721393035, 0.22727272727272727, 'x[4] <= 1.5\\ngini = 0.469\\nsamples = 8\\nvalue = [5, 3]'),\n",
       " Text(0.4129353233830846, 0.13636363636363635, 'gini = 0.48\\nsamples = 5\\nvalue = [3, 2]'),\n",
       " Text(0.43283582089552236, 0.13636363636363635, 'gini = 0.444\\nsamples = 3\\nvalue = [2, 1]'),\n",
       " Text(0.4626865671641791, 0.22727272727272727, 'x[4] <= 1.5\\ngini = 0.26\\nsamples = 13\\nvalue = [2, 11]'),\n",
       " Text(0.4527363184079602, 0.13636363636363635, 'gini = 0.298\\nsamples = 11\\nvalue = [2, 9]'),\n",
       " Text(0.472636815920398, 0.13636363636363635, 'gini = 0.0\\nsamples = 2\\nvalue = [0, 2]'),\n",
       " Text(0.48258706467661694, 0.4090909090909091, 'x[4] <= 0.5\\ngini = 0.337\\nsamples = 14\\nvalue = [11, 3]'),\n",
       " Text(0.472636815920398, 0.3181818181818182, 'gini = 0.5\\nsamples = 2\\nvalue = [1, 1]'),\n",
       " Text(0.4925373134328358, 0.3181818181818182, 'x[5] <= 0.5\\ngini = 0.278\\nsamples = 12\\nvalue = [10, 2]'),\n",
       " Text(0.48258706467661694, 0.22727272727272727, 'gini = 0.375\\nsamples = 4\\nvalue = [3, 1]'),\n",
       " Text(0.5024875621890548, 0.22727272727272727, 'gini = 0.219\\nsamples = 8\\nvalue = [7, 1]'),\n",
       " Text(0.6131840796019901, 0.6818181818181818, 'x[5] <= 0.5\\ngini = 0.392\\nsamples = 101\\nvalue = [74, 27]'),\n",
       " Text(0.572139303482587, 0.5909090909090909, 'x[4] <= 1.5\\ngini = 0.245\\nsamples = 35\\nvalue = [30, 5]'),\n",
       " Text(0.5621890547263682, 0.5, 'x[3] <= 5.5\\ngini = 0.219\\nsamples = 32\\nvalue = [28, 4]'),\n",
       " Text(0.5522388059701493, 0.4090909090909091, 'x[3] <= 4.5\\ngini = 0.308\\nsamples = 21\\nvalue = [17, 4]'),\n",
       " Text(0.5422885572139303, 0.3181818181818182, 'x[0] <= 0.5\\ngini = 0.266\\nsamples = 19\\nvalue = [16, 3]'),\n",
       " Text(0.5223880597014925, 0.22727272727272727, 'x[3] <= 2.5\\ngini = 0.444\\nsamples = 6\\nvalue = [4, 2]'),\n",
       " Text(0.5124378109452736, 0.13636363636363635, 'gini = 0.0\\nsamples = 1\\nvalue = [1, 0]'),\n",
       " Text(0.5323383084577115, 0.13636363636363635, 'x[3] <= 3.5\\ngini = 0.48\\nsamples = 5\\nvalue = [3, 2]'),\n",
       " Text(0.5223880597014925, 0.045454545454545456, 'gini = 0.5\\nsamples = 2\\nvalue = [1, 1]'),\n",
       " Text(0.5422885572139303, 0.045454545454545456, 'gini = 0.444\\nsamples = 3\\nvalue = [2, 1]'),\n",
       " Text(0.5621890547263682, 0.22727272727272727, 'x[3] <= 3.5\\ngini = 0.142\\nsamples = 13\\nvalue = [12, 1]'),\n",
       " Text(0.5522388059701493, 0.13636363636363635, 'gini = 0.219\\nsamples = 8\\nvalue = [7, 1]'),\n",
       " Text(0.572139303482587, 0.13636363636363635, 'gini = 0.0\\nsamples = 5\\nvalue = [5, 0]'),\n",
       " Text(0.5621890547263682, 0.3181818181818182, 'gini = 0.5\\nsamples = 2\\nvalue = [1, 1]'),\n",
       " Text(0.572139303482587, 0.4090909090909091, 'gini = 0.0\\nsamples = 11\\nvalue = [11, 0]'),\n",
       " Text(0.582089552238806, 0.5, 'gini = 0.444\\nsamples = 3\\nvalue = [2, 1]'),\n",
       " Text(0.654228855721393, 0.5909090909090909, 'x[0] <= 0.5\\ngini = 0.444\\nsamples = 66\\nvalue = [44, 22]'),\n",
       " Text(0.6069651741293532, 0.5, 'x[3] <= 2.5\\ngini = 0.489\\nsamples = 33\\nvalue = [19, 14]'),\n",
       " Text(0.5970149253731343, 0.4090909090909091, 'gini = 0.0\\nsamples = 3\\nvalue = [0, 3]'),\n",
       " Text(0.6169154228855721, 0.4090909090909091, 'x[3] <= 4.5\\ngini = 0.464\\nsamples = 30\\nvalue = [19, 11]'),\n",
       " Text(0.5920398009950248, 0.3181818181818182, 'x[3] <= 3.5\\ngini = 0.245\\nsamples = 7\\nvalue = [6, 1]'),\n",
       " Text(0.582089552238806, 0.22727272727272727, 'gini = 0.444\\nsamples = 3\\nvalue = [2, 1]'),\n",
       " Text(0.6019900497512438, 0.22727272727272727, 'gini = 0.0\\nsamples = 4\\nvalue = [4, 0]'),\n",
       " Text(0.6417910447761194, 0.3181818181818182, 'x[4] <= 0.5\\ngini = 0.491\\nsamples = 23\\nvalue = [13, 10]'),\n",
       " Text(0.6218905472636815, 0.22727272727272727, 'x[3] <= 5.5\\ngini = 0.49\\nsamples = 14\\nvalue = [6, 8]'),\n",
       " Text(0.6119402985074627, 0.13636363636363635, 'gini = 0.469\\nsamples = 8\\nvalue = [3, 5]'),\n",
       " Text(0.6318407960199005, 0.13636363636363635, 'gini = 0.5\\nsamples = 6\\nvalue = [3, 3]'),\n",
       " Text(0.6616915422885572, 0.22727272727272727, 'x[4] <= 1.5\\ngini = 0.346\\nsamples = 9\\nvalue = [7, 2]'),\n",
       " Text(0.6517412935323383, 0.13636363636363635, 'gini = 0.278\\nsamples = 6\\nvalue = [5, 1]'),\n",
       " Text(0.6716417910447762, 0.13636363636363635, 'gini = 0.444\\nsamples = 3\\nvalue = [2, 1]'),\n",
       " Text(0.7014925373134329, 0.5, 'x[3] <= 2.5\\ngini = 0.367\\nsamples = 33\\nvalue = [25, 8]'),\n",
       " Text(0.6915422885572139, 0.4090909090909091, 'gini = 0.0\\nsamples = 5\\nvalue = [5, 0]'),\n",
       " Text(0.7114427860696517, 0.4090909090909091, 'x[3] <= 3.5\\ngini = 0.408\\nsamples = 28\\nvalue = [20, 8]'),\n",
       " Text(0.6915422885572139, 0.3181818181818182, 'x[4] <= 1.0\\ngini = 0.49\\nsamples = 14\\nvalue = [8, 6]'),\n",
       " Text(0.681592039800995, 0.22727272727272727, 'gini = 0.497\\nsamples = 13\\nvalue = [7, 6]'),\n",
       " Text(0.7014925373134329, 0.22727272727272727, 'gini = 0.0\\nsamples = 1\\nvalue = [1, 0]'),\n",
       " Text(0.7313432835820896, 0.3181818181818182, 'x[4] <= 0.5\\ngini = 0.245\\nsamples = 14\\nvalue = [12, 2]'),\n",
       " Text(0.7213930348258707, 0.22727272727272727, 'x[3] <= 4.5\\ngini = 0.298\\nsamples = 11\\nvalue = [9, 2]'),\n",
       " Text(0.7114427860696517, 0.13636363636363635, 'gini = 0.219\\nsamples = 8\\nvalue = [7, 1]'),\n",
       " Text(0.7313432835820896, 0.13636363636363635, 'gini = 0.444\\nsamples = 3\\nvalue = [2, 1]'),\n",
       " Text(0.7412935323383084, 0.22727272727272727, 'gini = 0.0\\nsamples = 3\\nvalue = [3, 0]'),\n",
       " Text(0.8370646766169154, 0.8636363636363636, 'x[5] <= 0.5\\ngini = 0.375\\nsamples = 80\\nvalue = [20, 60]'),\n",
       " Text(0.7711442786069652, 0.7727272727272727, 'x[1] <= 0.5\\ngini = 0.483\\nsamples = 22\\nvalue = [9, 13]'),\n",
       " Text(0.7611940298507462, 0.6818181818181818, 'x[0] <= 0.5\\ngini = 0.432\\nsamples = 19\\nvalue = [6, 13]'),\n",
       " Text(0.7313432835820896, 0.5909090909090909, 'x[3] <= 5.5\\ngini = 0.32\\nsamples = 10\\nvalue = [2, 8]'),\n",
       " Text(0.7213930348258707, 0.5, 'gini = 0.0\\nsamples = 4\\nvalue = [0, 4]'),\n",
       " Text(0.7412935323383084, 0.5, 'x[4] <= 0.5\\ngini = 0.444\\nsamples = 6\\nvalue = [2, 4]'),\n",
       " Text(0.7313432835820896, 0.4090909090909091, 'gini = 0.5\\nsamples = 2\\nvalue = [1, 1]'),\n",
       " Text(0.7512437810945274, 0.4090909090909091, 'gini = 0.375\\nsamples = 4\\nvalue = [1, 3]'),\n",
       " Text(0.7910447761194029, 0.5909090909090909, 'x[3] <= 5.5\\ngini = 0.494\\nsamples = 9\\nvalue = [4, 5]'),\n",
       " Text(0.7810945273631841, 0.5, 'x[3] <= 4.5\\ngini = 0.469\\nsamples = 8\\nvalue = [3, 5]'),\n",
       " Text(0.7711442786069652, 0.4090909090909091, 'x[3] <= 3.5\\ngini = 0.5\\nsamples = 4\\nvalue = [2, 2]'),\n",
       " Text(0.7611940298507462, 0.3181818181818182, 'gini = 0.5\\nsamples = 2\\nvalue = [1, 1]'),\n",
       " Text(0.7810945273631841, 0.3181818181818182, 'gini = 0.5\\nsamples = 2\\nvalue = [1, 1]'),\n",
       " Text(0.7910447761194029, 0.4090909090909091, 'gini = 0.375\\nsamples = 4\\nvalue = [1, 3]'),\n",
       " Text(0.8009950248756219, 0.5, 'gini = 0.0\\nsamples = 1\\nvalue = [1, 0]'),\n",
       " Text(0.7810945273631841, 0.6818181818181818, 'gini = 0.0\\nsamples = 3\\nvalue = [3, 0]'),\n",
       " Text(0.9029850746268657, 0.7727272727272727, 'x[3] <= 4.5\\ngini = 0.307\\nsamples = 58\\nvalue = [11, 47]'),\n",
       " Text(0.8507462686567164, 0.6818181818181818, 'x[1] <= 0.5\\ngini = 0.43\\nsamples = 16\\nvalue = [5, 11]'),\n",
       " Text(0.8407960199004975, 0.5909090909090909, 'x[0] <= 0.5\\ngini = 0.459\\nsamples = 14\\nvalue = [5, 9]'),\n",
       " Text(0.8208955223880597, 0.5, 'x[3] <= 3.5\\ngini = 0.49\\nsamples = 7\\nvalue = [3, 4]'),\n",
       " Text(0.8109452736318408, 0.4090909090909091, 'x[4] <= 0.5\\ngini = 0.375\\nsamples = 4\\nvalue = [1, 3]'),\n",
       " Text(0.8009950248756219, 0.3181818181818182, 'x[3] <= 2.0\\ngini = 0.444\\nsamples = 3\\nvalue = [1, 2]'),\n",
       " Text(0.7910447761194029, 0.22727272727272727, 'gini = 0.5\\nsamples = 2\\nvalue = [1, 1]'),\n",
       " Text(0.8109452736318408, 0.22727272727272727, 'gini = 0.0\\nsamples = 1\\nvalue = [0, 1]'),\n",
       " Text(0.8208955223880597, 0.3181818181818182, 'gini = 0.0\\nsamples = 1\\nvalue = [0, 1]'),\n",
       " Text(0.8308457711442786, 0.4090909090909091, 'gini = 0.444\\nsamples = 3\\nvalue = [2, 1]'),\n",
       " Text(0.8606965174129353, 0.5, 'x[4] <= 0.5\\ngini = 0.408\\nsamples = 7\\nvalue = [2, 5]'),\n",
       " Text(0.8507462686567164, 0.4090909090909091, 'x[3] <= 3.5\\ngini = 0.278\\nsamples = 6\\nvalue = [1, 5]'),\n",
       " Text(0.8407960199004975, 0.3181818181818182, 'gini = 0.5\\nsamples = 2\\nvalue = [1, 1]'),\n",
       " Text(0.8606965174129353, 0.3181818181818182, 'gini = 0.0\\nsamples = 4\\nvalue = [0, 4]'),\n",
       " Text(0.8706467661691543, 0.4090909090909091, 'gini = 0.0\\nsamples = 1\\nvalue = [1, 0]'),\n",
       " Text(0.8606965174129353, 0.5909090909090909, 'gini = 0.0\\nsamples = 2\\nvalue = [0, 2]'),\n",
       " Text(0.9552238805970149, 0.6818181818181818, 'x[4] <= 1.5\\ngini = 0.245\\nsamples = 42\\nvalue = [6, 36]'),\n",
       " Text(0.945273631840796, 0.5909090909090909, 'x[0] <= 0.5\\ngini = 0.284\\nsamples = 35\\nvalue = [6, 29]'),\n",
       " Text(0.9104477611940298, 0.5, 'x[1] <= 0.5\\ngini = 0.245\\nsamples = 28\\nvalue = [4, 24]'),\n",
       " Text(0.8905472636815921, 0.4090909090909091, 'x[4] <= 0.5\\ngini = 0.266\\nsamples = 19\\nvalue = [3, 16]'),\n",
       " Text(0.8805970149253731, 0.3181818181818182, 'x[3] <= 5.5\\ngini = 0.291\\nsamples = 17\\nvalue = [3, 14]'),\n",
       " Text(0.8706467661691543, 0.22727272727272727, 'gini = 0.32\\nsamples = 5\\nvalue = [1, 4]'),\n",
       " Text(0.8905472636815921, 0.22727272727272727, 'gini = 0.278\\nsamples = 12\\nvalue = [2, 10]'),\n",
       " Text(0.900497512437811, 0.3181818181818182, 'gini = 0.0\\nsamples = 2\\nvalue = [0, 2]'),\n",
       " Text(0.9303482587064676, 0.4090909090909091, 'x[4] <= 0.5\\ngini = 0.198\\nsamples = 9\\nvalue = [1, 8]'),\n",
       " Text(0.9203980099502488, 0.3181818181818182, 'gini = 0.0\\nsamples = 4\\nvalue = [0, 4]'),\n",
       " Text(0.9402985074626866, 0.3181818181818182, 'gini = 0.32\\nsamples = 5\\nvalue = [1, 4]'),\n",
       " Text(0.9800995024875622, 0.5, 'x[3] <= 5.5\\ngini = 0.408\\nsamples = 7\\nvalue = [2, 5]'),\n",
       " Text(0.9701492537313433, 0.4090909090909091, 'x[1] <= 0.5\\ngini = 0.278\\nsamples = 6\\nvalue = [1, 5]'),\n",
       " Text(0.9601990049751243, 0.3181818181818182, 'gini = 0.0\\nsamples = 4\\nvalue = [0, 4]'),\n",
       " Text(0.9800995024875622, 0.3181818181818182, 'gini = 0.5\\nsamples = 2\\nvalue = [1, 1]'),\n",
       " Text(0.9900497512437811, 0.4090909090909091, 'gini = 0.0\\nsamples = 1\\nvalue = [1, 0]'),\n",
       " Text(0.9651741293532339, 0.5909090909090909, 'gini = 0.0\\nsamples = 7\\nvalue = [0, 7]')]"
      ]
     },
     "execution_count": 67,
     "metadata": {},
     "output_type": "execute_result"
    },
    {
     "data": {
      "image/png": "[encoded data removed]",
      "text/plain": [
       "<Figure size 640x480 with 1 Axes>"
      ]
     },
     "metadata": {},
     "output_type": "display_data"
    }
   ],
   "source": [
    "plot_tree(model)"
   ]
  },
  {
   "cell_type": "code",
   "execution_count": null,
   "id": "755a97d6-3a37-4cb1-8331-844d1148a554",
   "metadata": {},
   "outputs": [],
   "source": []
  }
 ],
 "metadata": {
  "kernelspec": {
   "display_name": "Python 3 (ipykernel)",
   "language": "python",
   "name": "python3"
  },
  "language_info": {
   "codemirror_mode": {
    "name": "ipython",
    "version": 3
   },
   "file_extension": ".py",
   "mimetype": "text/x-python",
   "name": "python",
   "nbconvert_exporter": "python",
   "pygments_lexer": "ipython3",
   "version": "3.11.5"
  }
 },
 "nbformat": 4,
 "nbformat_minor": 5
}
