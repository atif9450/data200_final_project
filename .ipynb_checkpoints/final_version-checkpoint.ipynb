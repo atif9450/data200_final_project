{
 "cells": [
  {
   "cell_type": "code",
   "execution_count": 1,
   "id": "bd68ade5-c4a1-4b50-879e-5f417adeb74a",
   "metadata": {
    "tags": []
   },
   "outputs": [],
   "source": [
    "#imports\n",
    "import pandas as pd\n",
    "import seaborn as sns\n",
    "import numpy as np\n",
    "import matplotlib.pyplot as plt\n",
    "import sklearn.metrics as sklm\n",
    "from sklearn.pipeline import make_pipeline\n",
    "from sklearn.model_selection import train_test_split, RepeatedKFold\n",
    "from sklearn.linear_model import Ridge, RidgeCV, Lasso, LassoCV, LinearRegression\n",
    "from sklearn.metrics import mean_squared_error, r2_score, confusion_matrix\n",
    "from sklearn.tree import DecisionTreeClassifier"
   ]
  },
  {
   "cell_type": "markdown",
   "id": "26194965-50b3-421a-bf8b-f228142c1966",
   "metadata": {},
   "source": [
    "<h1>Dataset</h1>\n",
    "The dataset is the Current Population Survey (CPS) data from 1985, containing demographic factors, and hourly wage. The survey was conducted in the US. The dataset contains the following variables:<br>\n",
    "1) Wage (hourly wage in 1985 $USD)<br>\n",
    "2) Occupation (1: Management, 2: Sales, 3: Clerical, 4: Service, 5: Professional, 6: Other)<br>\n",
    "3) Sector (0: Other, 1: Manufacturing, 2: Construction)<br>\n",
    "4) Union (1: Member, 2: Not a member)<br>\n",
    "5) Education (years of education)<br>\n",
    "6) Experience (years of work experience)<br>\n",
    "7) Age (years)<br>\n",
    "8) Sex (1: Female, 0: Male)<br>\n",
    "9) Marr (marital status; 1: married, 0: not married)<br>\n",
    "10) Race (1: Other, 2: Hispanic, 3: White)<br>\n",
    "11) South (whether person lives in southern region; 1: True, 2: False)<br>\n",
    "<br>\n",
    "We would like to explore the dataset to try and determine what factors were the most helpful in predicting hourly wage. For the sake of explorataion, we are going to try 2 modeling approaches:<br>\n",
    "1) Predicting wage as a continuous variable<br>\n",
    "2) Predicting whether someone earns at or above the median wage"
   ]
  },
  {
   "cell_type": "markdown",
   "id": "382ae78a-3382-4b10-bcd1-1e1da99599b7",
   "metadata": {},
   "source": [
    "<h1>EDA</h1>"
   ]
  },
  {
   "cell_type": "code",
   "execution_count": 2,
   "id": "4d695005-ad90-463a-ab72-1b9d949e9e63",
   "metadata": {
    "tags": []
   },
   "outputs": [
    {
     "data": {
      "text/html": [
       "<div>\n",
       "<style scoped>\n",
       "    .dataframe tbody tr th:only-of-type {\n",
       "        vertical-align: middle;\n",
       "    }\n",
       "\n",
       "    .dataframe tbody tr th {\n",
       "        vertical-align: top;\n",
       "    }\n",
       "\n",
       "    .dataframe thead th {\n",
       "        text-align: right;\n",
       "    }\n",
       "</style>\n",
       "<table border=\"1\" class=\"dataframe\">\n",
       "  <thead>\n",
       "    <tr style=\"text-align: right;\">\n",
       "      <th></th>\n",
       "      <th>education</th>\n",
       "      <th>south</th>\n",
       "      <th>sex</th>\n",
       "      <th>experience</th>\n",
       "      <th>union</th>\n",
       "      <th>wage</th>\n",
       "      <th>age</th>\n",
       "      <th>race</th>\n",
       "      <th>occupation</th>\n",
       "      <th>sector</th>\n",
       "      <th>marr</th>\n",
       "    </tr>\n",
       "  </thead>\n",
       "  <tbody>\n",
       "    <tr>\n",
       "      <th>0</th>\n",
       "      <td>8</td>\n",
       "      <td>0</td>\n",
       "      <td>1</td>\n",
       "      <td>21</td>\n",
       "      <td>0</td>\n",
       "      <td>5.10</td>\n",
       "      <td>35</td>\n",
       "      <td>2</td>\n",
       "      <td>6</td>\n",
       "      <td>1</td>\n",
       "      <td>1</td>\n",
       "    </tr>\n",
       "    <tr>\n",
       "      <th>1</th>\n",
       "      <td>9</td>\n",
       "      <td>0</td>\n",
       "      <td>1</td>\n",
       "      <td>42</td>\n",
       "      <td>0</td>\n",
       "      <td>4.95</td>\n",
       "      <td>57</td>\n",
       "      <td>3</td>\n",
       "      <td>6</td>\n",
       "      <td>1</td>\n",
       "      <td>1</td>\n",
       "    </tr>\n",
       "    <tr>\n",
       "      <th>2</th>\n",
       "      <td>12</td>\n",
       "      <td>0</td>\n",
       "      <td>0</td>\n",
       "      <td>1</td>\n",
       "      <td>0</td>\n",
       "      <td>6.67</td>\n",
       "      <td>19</td>\n",
       "      <td>3</td>\n",
       "      <td>6</td>\n",
       "      <td>1</td>\n",
       "      <td>0</td>\n",
       "    </tr>\n",
       "    <tr>\n",
       "      <th>3</th>\n",
       "      <td>12</td>\n",
       "      <td>0</td>\n",
       "      <td>0</td>\n",
       "      <td>4</td>\n",
       "      <td>0</td>\n",
       "      <td>4.00</td>\n",
       "      <td>22</td>\n",
       "      <td>3</td>\n",
       "      <td>6</td>\n",
       "      <td>0</td>\n",
       "      <td>0</td>\n",
       "    </tr>\n",
       "    <tr>\n",
       "      <th>4</th>\n",
       "      <td>12</td>\n",
       "      <td>0</td>\n",
       "      <td>0</td>\n",
       "      <td>17</td>\n",
       "      <td>0</td>\n",
       "      <td>7.50</td>\n",
       "      <td>35</td>\n",
       "      <td>3</td>\n",
       "      <td>6</td>\n",
       "      <td>0</td>\n",
       "      <td>1</td>\n",
       "    </tr>\n",
       "  </tbody>\n",
       "</table>\n",
       "</div>"
      ],
      "text/plain": [
       "   education  south  sex  experience  union  wage  age  race  occupation  \\\n",
       "0          8      0    1          21      0  5.10   35     2           6   \n",
       "1          9      0    1          42      0  4.95   57     3           6   \n",
       "2         12      0    0           1      0  6.67   19     3           6   \n",
       "3         12      0    0           4      0  4.00   22     3           6   \n",
       "4         12      0    0          17      0  7.50   35     3           6   \n",
       "\n",
       "   sector  marr  \n",
       "0       1     1  \n",
       "1       1     1  \n",
       "2       1     0  \n",
       "3       0     0  \n",
       "4       0     1  "
      ]
     },
     "execution_count": 2,
     "metadata": {},
     "output_type": "execute_result"
    }
   ],
   "source": [
    "# load the dataset\n",
    "df = pd.read_csv(\"wage.data.txt\", delim_whitespace=True)\n",
    "df.head()"
   ]
  },
  {
   "cell_type": "markdown",
   "id": "bc201a4c-7b57-4ce2-93ba-0881a34023a8",
   "metadata": {},
   "source": [
    "<h2>Missing/Extreme Values</h2>\n",
    "Upon inspection, there were no missing values, or extreme or erroneous outliers within the data."
   ]
  },
  {
   "cell_type": "markdown",
   "id": "35985811-2ff4-462f-a3f5-2a14954baee2",
   "metadata": {},
   "source": [
    "<h2>Distributions of Variables</h2>"
   ]
  },
  {
   "cell_type": "markdown",
   "id": "1547882e-e28c-431f-8226-ac4535f02467",
   "metadata": {},
   "source": [
    "In our EDA, we found out the following information about the distributions of the various variables:<br>\n",
    "1) majority of education is 12<br>\n",
    "2) south is disproportionate to 0<br>\n",
    "3) union is disproportionate to 0<br>\n",
    "4) race is disproportionate to 3<br>\n",
    "5) distribution of occupation is expected - moving down the managment chain<br>\n",
    "6) sector is disproportionate to 0<br>\n",
    "7) experience is left-skewed (fixed by sqrt)<br>\n",
    "8) wage is left-skewed (fixed by log)<br>\n",
    "9)  is a left-skewed (fixed by log)<br>\n",
    "<br>\n",
    "For the sake of brevity, we will only includea plot for the distribution of the education variable, as it is hard to describe verbally."
   ]
  },
  {
   "cell_type": "code",
   "execution_count": 3,
   "id": "90d643a3-4341-488c-9d49-7285ea4b59b0",
   "metadata": {
    "tags": []
   },
   "outputs": [
    {
     "data": {
      "text/plain": [
       "<Axes: xlabel='education', ylabel='count'>"
      ]
     },
     "execution_count": 3,
     "metadata": {},
     "output_type": "execute_result"
    },
    {
     "data": {
      "image/png": "[encoded data removed]",
      "text/plain": [
       "<Figure size 640x480 with 1 Axes>"
      ]
     },
     "metadata": {},
     "output_type": "display_data"
    }
   ],
   "source": [
    "sns.countplot(x=df.education)"
   ]
  },
  {
   "cell_type": "markdown",
   "id": "542a76e2-270c-4da9-828c-590d29ee3881",
   "metadata": {},
   "source": [
    "<h2>Relationships between Wage and Other Variables</h2>"
   ]
  },
  {
   "cell_type": "markdown",
   "id": "cde451be-0fbc-4584-9015-3014003a1970",
   "metadata": {},
   "source": [
    "In our EDA, we found no relationships between wage and the continuous variables (including education). So, we compared both the mean wages and the median wages for the various values in the categorical variables."
   ]
  },
  {
   "cell_type": "code",
   "execution_count": 4,
   "id": "bb11820c-19cb-4a02-99c1-01053db49b53",
   "metadata": {
    "tags": []
   },
   "outputs": [
    {
     "name": "stdout",
     "output_type": "stream",
     "text": [
      "           wage\n",
      "south          \n",
      "0      9.489233\n",
      "1      7.896923\n",
      "         wage\n",
      "sex          \n",
      "0    9.994913\n",
      "1    7.878857\n",
      "            wage\n",
      "union           \n",
      "0       8.635228\n",
      "1      10.798125\n",
      "          wage\n",
      "race          \n",
      "1     8.058358\n",
      "2     7.283333\n",
      "3     9.277932\n",
      "                 wage\n",
      "occupation           \n",
      "1           12.704000\n",
      "2            7.592632\n",
      "3            7.422577\n",
      "4            6.537470\n",
      "5           11.947429\n",
      "6            8.426474\n",
      "            wage\n",
      "sector          \n",
      "0       8.872774\n",
      "1       9.604444\n",
      "2       9.220833\n",
      "          wage\n",
      "marr          \n",
      "0     8.311848\n",
      "1     9.398486\n"
     ]
    }
   ],
   "source": [
    "# comparing mean wages by variable\n",
    "print(df.groupby(\"south\").agg({\"wage\": \"mean\"}))\n",
    "print(df.groupby(\"sex\").agg({\"wage\": \"mean\"}))\n",
    "print(df.groupby(\"union\").agg({\"wage\": \"mean\"}))\n",
    "print(df.groupby(\"race\").agg({\"wage\": \"mean\"}))\n",
    "print(df.groupby(\"occupation\").agg({\"wage\": \"mean\"}))\n",
    "print(df.groupby(\"sector\").agg({\"wage\": \"mean\"}))\n",
    "print(df.groupby(\"marr\").agg({\"wage\": \"mean\"}))"
   ]
  },
  {
   "cell_type": "markdown",
   "id": "c5d5b447-86f2-42ca-a237-17c1f0ae9bde",
   "metadata": {},
   "source": [
    "We can see the following trends:<br>\n",
    "1) non-south has higher average wages<br>\n",
    "2) males have higher average wages<br>\n",
    "3) union members have higher average wages<br>\n",
    "4) race (mean wage, highest to lowest): 3, 1, 2<br>\n",
    "5) occupation (same as race): 1, 5, (2,3), 6, 4<br>\n",
    "6) sector (same as race): 1, 2, 0<br>\n",
    "7) married individuals have higher mean wages than unmarried<br>\n",
    "<br>\n",
    "The mean wages for occupations 2 and 3 are quite similar. Additionally, the mean wages for sectors 1 and 2 are quite similar. We can check the difference in means with bootstrapping to get a better idea."
   ]
  },
  {
   "cell_type": "code",
   "execution_count": 5,
   "id": "0e3049af-6667-430b-9ff0-a5f856c05e87",
   "metadata": {
    "tags": []
   },
   "outputs": [],
   "source": [
    "## check difference in mean wages for occupations 2 and 3\n",
    "s1 = []\n",
    "s2 = []\n",
    "\n",
    "for i in range(1000):\n",
    "    sample = df.loc[df.occupation==2, \"wage\"].sample(n=1000, replace=True)\n",
    "    sample_mean = sample.mean()\n",
    "    s1.append(sample_mean)\n",
    "    \n",
    "    sample = df.loc[df.occupation==3, \"wage\"].sample(n=1000, replace=True)\n",
    "    sample_mean = sample.mean()\n",
    "    s2.append(sample_mean)\n",
    "    \n",
    "s1 = np.array(s1)\n",
    "s2 = np.array(s2)"
   ]
  },
  {
   "cell_type": "code",
   "execution_count": 6,
   "id": "484f4b48-b089-4023-9422-358b1da2b0b9",
   "metadata": {
    "tags": []
   },
   "outputs": [
    {
     "data": {
      "text/plain": [
       "<Axes: ylabel='Count'>"
      ]
     },
     "execution_count": 6,
     "metadata": {},
     "output_type": "execute_result"
    },
    {
     "data": {
      "image/png": "[encoded data removed]",
      "text/plain": [
       "<Figure size 640x480 with 1 Axes>"
      ]
     },
     "metadata": {},
     "output_type": "display_data"
    }
   ],
   "source": [
    "# look at histogram of difference in means\n",
    "sns.histplot(s1 - s2)"
   ]
  },
  {
   "cell_type": "markdown",
   "id": "9cfcc468-6c72-4a22-af08-63e4a056f3f3",
   "metadata": {
    "tags": []
   },
   "source": [
    "The difference in means is not 0; therefore it would be useful to incorporate them separately in models"
   ]
  },
  {
   "cell_type": "code",
   "execution_count": 7,
   "id": "3b69843e-ac73-480b-9e02-64c49273bb26",
   "metadata": {
    "tags": []
   },
   "outputs": [],
   "source": [
    "## check difference in mean wages for sectors 1 and 2\n",
    "s1 = []\n",
    "s2 = []\n",
    "\n",
    "for i in range(1000):\n",
    "    sample = df.loc[df.sector==1, \"wage\"].sample(n=1000, replace=True)\n",
    "    sample_mean = sample.mean()\n",
    "    s1.append(sample_mean)\n",
    "    \n",
    "    sample = df.loc[df.sector==2, \"wage\"].sample(n=1000, replace=True)\n",
    "    sample_mean = sample.mean()\n",
    "    s2.append(sample_mean)\n",
    "    \n",
    "s1 = np.array(s1)\n",
    "s2 = np.array(s2)"
   ]
  },
  {
   "cell_type": "code",
   "execution_count": 8,
   "id": "8985699b-bc90-4ca8-94f2-e40131d2670c",
   "metadata": {
    "tags": []
   },
   "outputs": [
    {
     "data": {
      "text/plain": [
       "<Axes: ylabel='Count'>"
      ]
     },
     "execution_count": 8,
     "metadata": {},
     "output_type": "execute_result"
    },
    {
     "data": {
      "image/png": "[encoded data removed]",
      "text/plain": [
       "<Figure size 640x480 with 1 Axes>"
      ]
     },
     "metadata": {},
     "output_type": "display_data"
    }
   ],
   "source": [
    "# look at histogram of difference in means\n",
    "sns.histplot(s1 - s2)"
   ]
  },
  {
   "cell_type": "markdown",
   "id": "460a449c-5415-4bc2-83a2-f6c8d565983f",
   "metadata": {},
   "source": [
    "Again, the difference in means is not 0. Therefore there is information to be extracted."
   ]
  },
  {
   "cell_type": "markdown",
   "id": "3a22a372-69a6-414d-9810-53fb4a5a6324",
   "metadata": {},
   "source": [
    "Now, let's compare the median wages by variable."
   ]
  },
  {
   "cell_type": "code",
   "execution_count": 9,
   "id": "34364fb5-2b3c-4d65-9948-f462375d23ff",
   "metadata": {
    "tags": []
   },
   "outputs": [
    {
     "name": "stdout",
     "output_type": "stream",
     "text": [
      "        wage\n",
      "south       \n",
      "0      8.595\n",
      "1      6.250\n",
      "     wage\n",
      "sex      \n",
      "0    8.93\n",
      "1    6.80\n",
      "        wage\n",
      "union       \n",
      "0       7.07\n",
      "1      10.00\n",
      "      wage\n",
      "race      \n",
      "1      7.5\n",
      "2      5.2\n",
      "3      8.0\n",
      "              wage\n",
      "occupation        \n",
      "1           10.620\n",
      "2            5.725\n",
      "3            7.500\n",
      "4            5.500\n",
      "5           10.610\n",
      "6            7.150\n",
      "        wage\n",
      "sector      \n",
      "0       7.50\n",
      "1       9.00\n",
      "2       9.75\n",
      "       wage\n",
      "marr       \n",
      "0     6.585\n",
      "1     8.595\n"
     ]
    }
   ],
   "source": [
    "# comparing mean wages by variable\n",
    "print(df.groupby(\"south\").agg({\"wage\": \"median\"}))\n",
    "print(df.groupby(\"sex\").agg({\"wage\": \"median\"}))\n",
    "print(df.groupby(\"union\").agg({\"wage\": \"median\"}))\n",
    "print(df.groupby(\"race\").agg({\"wage\": \"median\"}))\n",
    "print(df.groupby(\"occupation\").agg({\"wage\": \"median\"}))\n",
    "print(df.groupby(\"sector\").agg({\"wage\": \"median\"}))\n",
    "print(df.groupby(\"marr\").agg({\"wage\": \"median\"}))"
   ]
  },
  {
   "cell_type": "markdown",
   "id": "864a7b7f-7ef1-4cb1-b3fc-93bd65747d13",
   "metadata": {},
   "source": [
    "Again, the median wages for occupations 2 and 4 are quite similar. Let's inspect with bootstrapping."
   ]
  },
  {
   "cell_type": "code",
   "execution_count": 10,
   "id": "3e629604-1f24-4242-a960-f881a3dcabaa",
   "metadata": {
    "tags": []
   },
   "outputs": [],
   "source": [
    "## check difference in mean wages for occupations 2 and 3\n",
    "s1 = []\n",
    "s2 = []\n",
    "\n",
    "for i in range(1000):\n",
    "    sample = df.loc[df.occupation==2, \"wage\"].sample(n=1000, replace=True)\n",
    "    sample_mean = sample.median()\n",
    "    s1.append(sample_mean)\n",
    "    \n",
    "    sample = df.loc[df.occupation==4, \"wage\"].sample(n=1000, replace=True)\n",
    "    sample_mean = sample.median()\n",
    "    s2.append(sample_mean)\n",
    "    \n",
    "s1 = np.array(s1)\n",
    "s2 = np.array(s2)"
   ]
  },
  {
   "cell_type": "code",
   "execution_count": 11,
   "id": "33f6a73a-f153-45cc-9fa8-d2345d41ed87",
   "metadata": {
    "tags": []
   },
   "outputs": [
    {
     "data": {
      "text/plain": [
       "<Axes: ylabel='Count'>"
      ]
     },
     "execution_count": 11,
     "metadata": {},
     "output_type": "execute_result"
    },
    {
     "data": {
      "image/png": "[encoded data removed]",
      "text/plain": [
       "<Figure size 640x480 with 1 Axes>"
      ]
     },
     "metadata": {},
     "output_type": "display_data"
    }
   ],
   "source": [
    "# look at histogram of difference in means\n",
    "sns.histplot(s1 - s2)"
   ]
  },
  {
   "cell_type": "markdown",
   "id": "c35744c0-b661-456b-9200-54982a5c4673",
   "metadata": {},
   "source": [
    "The plot shows that the difference in medians is not in fact 0, though it is very close. Therefore it might be useful to extract information from these levels."
   ]
  },
  {
   "cell_type": "markdown",
   "id": "b60c2d14-4ad2-472e-a467-5b246b05ae3e",
   "metadata": {},
   "source": [
    "<h1>Modeling Continuous Wage<h1>"
   ]
  },
  {
   "cell_type": "markdown",
   "id": "6965ff18-b819-47cd-89f4-60247d782e50",
   "metadata": {},
   "source": [
    "Since all categorical variables proved to have different mean wages for the various levels of each categorical variable, we shall include all of them as predictors. Furthermore, we used one-hot encoding for the variables with multiple levels so that coefficient interpretation may be easier. Due to the nature of the data, we began with ordinary linear regression."
   ]
  },
  {
   "cell_type": "code",
   "execution_count": 13,
   "id": "ea0cc5b1-719e-4dee-bec3-7e5b3478b9fc",
   "metadata": {
    "tags": []
   },
   "outputs": [],
   "source": [
    "# create one-hot for occupation\n",
    "df[\"occ_1\"] = df.occupation.apply(lambda x: 1 if x == 1 else 0)\n",
    "df[\"occ_2\"] = df.occupation.apply(lambda x: 1 if x == 2 else 0)\n",
    "df[\"occ_3\"] = df.occupation.apply(lambda x: 1 if x == 3 else 0)\n",
    "df[\"occ_4\"] = df.occupation.apply(lambda x: 1 if x == 4 else 0)\n",
    "df[\"occ_5\"] = df.occupation.apply(lambda x: 1 if x == 5 else 0)\n",
    "df[\"occ_6\"] = df.occupation.apply(lambda x: 1 if x == 6 else 0)\n",
    "\n",
    "# create one-hot variables for sector\n",
    "df[\"sec_0\"] = df.sector.apply(lambda x: 1 if x == 0 else 0)\n",
    "df[\"sec_1\"] = df.sector.apply(lambda x: 1 if x == 1 else 0)\n",
    "df[\"sec_2\"] = df.sector.apply(lambda x: 1 if x == 2 else 0)\n",
    "\n",
    "# create one-hot variables for race\n",
    "df[\"race_1\"] = df.race.apply(lambda x: 1 if x == 1 else 0)\n",
    "df[\"race_2\"] = df.race.apply(lambda x: 1 if x == 2 else 0)\n",
    "df[\"race_3\"] = df.race.apply(lambda x: 1 if x == 3 else 0)"
   ]
  },
  {
   "cell_type": "code",
   "execution_count": 13,
   "id": "b33409b3",
   "metadata": {
    "tags": []
   },
   "outputs": [],
   "source": [
    "# create one-hot for occupation\n",
    "df[\"occ_1\"] = df.occupation.apply(lambda x: 1 if x == 1 else 0)\n",
    "df[\"occ_2\"] = df.occupation.apply(lambda x: 1 if x == 2 else 0)\n",
    "df[\"occ_3\"] = df.occupation.apply(lambda x: 1 if x == 3 else 0)\n",
    "df[\"occ_4\"] = df.occupation.apply(lambda x: 1 if x == 4 else 0)\n",
    "df[\"occ_5\"] = df.occupation.apply(lambda x: 1 if x == 5 else 0)\n",
    "df[\"occ_6\"] = df.occupation.apply(lambda x: 1 if x == 6 else 0)\n",
    "\n",
    "# create one-hot variables for sector\n",
    "df[\"sec_0\"] = df.sector.apply(lambda x: 1 if x == 0 else 0)\n",
    "df[\"sec_1\"] = df.sector.apply(lambda x: 1 if x == 1 else 0)\n",
    "df[\"sec_2\"] = df.sector.apply(lambda x: 1 if x == 2 else 0)\n",
    "\n",
    "# create one-hot variables for race\n",
    "df[\"race_1\"] = df.race.apply(lambda x: 1 if x == 1 else 0)\n",
    "df[\"race_2\"] = df.race.apply(lambda x: 1 if x == 2 else 0)\n",
    "df[\"race_3\"] = df.race.apply(lambda x: 1 if x == 3 else 0)"
   ]
  },
  {
   "cell_type": "code",
   "execution_count": 14,
   "id": "cecb94e3-40dd-401b-baa2-1babff7f5ade",
   "metadata": {
    "tags": []
   },
   "outputs": [],
   "source": [
    "## define training and testing splits\n",
    "X = df.drop([\"education\", \"experience\", \"wage\", \"age\", \"race\", \"occupation\", \"sector\"], axis=1)\n",
    "y = df.wage\n",
    "\n",
    "X_train, X_test, y_train, y_test = train_test_split(X, y, test_size=0.2, random_state=0)"
   ]
  },
  {
   "cell_type": "code",
   "execution_count": 23,
   "id": "f9c6e713-651d-4579-b89d-405cb01171c1",
   "metadata": {
    "tags": []
   },
   "outputs": [
    {
     "data": {
      "text/html": [
       "<style>#sk-container-id-3 {color: black;}#sk-container-id-3 pre{padding: 0;}#sk-container-id-3 div.sk-toggleable {background-color: white;}#sk-container-id-3 label.sk-toggleable__label {cursor: pointer;display: block;width: 100%;margin-bottom: 0;padding: 0.3em;box-sizing: border-box;text-align: center;}#sk-container-id-3 label.sk-toggleable__label-arrow:before {content: \"▸\";float: left;margin-right: 0.25em;color: #696969;}#sk-container-id-3 label.sk-toggleable__label-arrow:hover:before {color: black;}#sk-container-id-3 div.sk-estimator:hover label.sk-toggleable__label-arrow:before {color: black;}#sk-container-id-3 div.sk-toggleable__content {max-height: 0;max-width: 0;overflow: hidden;text-align: left;background-color: #f0f8ff;}#sk-container-id-3 div.sk-toggleable__content pre {margin: 0.2em;color: black;border-radius: 0.25em;background-color: #f0f8ff;}#sk-container-id-3 input.sk-toggleable__control:checked~div.sk-toggleable__content {max-height: 200px;max-width: 100%;overflow: auto;}#sk-container-id-3 input.sk-toggleable__control:checked~label.sk-toggleable__label-arrow:before {content: \"▾\";}#sk-container-id-3 div.sk-estimator input.sk-toggleable__control:checked~label.sk-toggleable__label {background-color: #d4ebff;}#sk-container-id-3 div.sk-label input.sk-toggleable__control:checked~label.sk-toggleable__label {background-color: #d4ebff;}#sk-container-id-3 input.sk-hidden--visually {border: 0;clip: rect(1px 1px 1px 1px);clip: rect(1px, 1px, 1px, 1px);height: 1px;margin: -1px;overflow: hidden;padding: 0;position: absolute;width: 1px;}#sk-container-id-3 div.sk-estimator {font-family: monospace;background-color: #f0f8ff;border: 1px dotted black;border-radius: 0.25em;box-sizing: border-box;margin-bottom: 0.5em;}#sk-container-id-3 div.sk-estimator:hover {background-color: #d4ebff;}#sk-container-id-3 div.sk-parallel-item::after {content: \"\";width: 100%;border-bottom: 1px solid gray;flex-grow: 1;}#sk-container-id-3 div.sk-label:hover label.sk-toggleable__label {background-color: #d4ebff;}#sk-container-id-3 div.sk-serial::before {content: \"\";position: absolute;border-left: 1px solid gray;box-sizing: border-box;top: 0;bottom: 0;left: 50%;z-index: 0;}#sk-container-id-3 div.sk-serial {display: flex;flex-direction: column;align-items: center;background-color: white;padding-right: 0.2em;padding-left: 0.2em;position: relative;}#sk-container-id-3 div.sk-item {position: relative;z-index: 1;}#sk-container-id-3 div.sk-parallel {display: flex;align-items: stretch;justify-content: center;background-color: white;position: relative;}#sk-container-id-3 div.sk-item::before, #sk-container-id-3 div.sk-parallel-item::before {content: \"\";position: absolute;border-left: 1px solid gray;box-sizing: border-box;top: 0;bottom: 0;left: 50%;z-index: -1;}#sk-container-id-3 div.sk-parallel-item {display: flex;flex-direction: column;z-index: 1;position: relative;background-color: white;}#sk-container-id-3 div.sk-parallel-item:first-child::after {align-self: flex-end;width: 50%;}#sk-container-id-3 div.sk-parallel-item:last-child::after {align-self: flex-start;width: 50%;}#sk-container-id-3 div.sk-parallel-item:only-child::after {width: 0;}#sk-container-id-3 div.sk-dashed-wrapped {border: 1px dashed gray;margin: 0 0.4em 0.5em 0.4em;box-sizing: border-box;padding-bottom: 0.4em;background-color: white;}#sk-container-id-3 div.sk-label label {font-family: monospace;font-weight: bold;display: inline-block;line-height: 1.2em;}#sk-container-id-3 div.sk-label-container {text-align: center;}#sk-container-id-3 div.sk-container {/* jupyter's `normalize.less` sets `[hidden] { display: none; }` but bootstrap.min.css set `[hidden] { display: none !important; }` so we also need the `!important` here to be able to override the default hidden behavior on the sphinx rendered scikit-learn.org. See: https://github.com/scikit-learn/scikit-learn/issues/21755 */display: inline-block !important;position: relative;}#sk-container-id-3 div.sk-text-repr-fallback {display: none;}</style><div id=\"sk-container-id-3\" class=\"sk-top-container\"><div class=\"sk-text-repr-fallback\"><pre>LinearRegression()</pre><b>In a Jupyter environment, please rerun this cell to show the HTML representation or trust the notebook. <br />On GitHub, the HTML representation is unable to render, please try loading this page with nbviewer.org.</b></div><div class=\"sk-container\" hidden><div class=\"sk-item\"><div class=\"sk-estimator sk-toggleable\"><input class=\"sk-toggleable__control sk-hidden--visually\" id=\"sk-estimator-id-3\" type=\"checkbox\" checked><label for=\"sk-estimator-id-3\" class=\"sk-toggleable__label sk-toggleable__label-arrow\">LinearRegression</label><div class=\"sk-toggleable__content\"><pre>LinearRegression()</pre></div></div></div></div></div>"
      ],
      "text/plain": [
       "LinearRegression()"
      ]
     },
     "execution_count": 23,
     "metadata": {},
     "output_type": "execute_result"
    }
   ],
   "source": [
    "## define and fit linear regression model\n",
    "model = LinearRegression()\n",
    "model.fit(X_train, y_train)"
   ]
  },
  {
   "cell_type": "code",
   "execution_count": 24,
   "id": "427ca1eb-0a12-4db9-8481-2428f3d550bd",
   "metadata": {
    "tags": []
   },
   "outputs": [
    {
     "name": "stdout",
     "output_type": "stream",
     "text": [
      "3.993854877855836\n",
      "0.3233058395709789\n"
     ]
    }
   ],
   "source": [
    "# test model performance\n",
    "preds = model.predict(X_test)\n",
    "print(np.sqrt(mean_squared_error(y_test, preds)))\n",
    "print(r2_score(y_test, preds))"
   ]
  },
  {
   "cell_type": "markdown",
   "id": "69f794e6-a8cb-43f9-a2c7-1e502a97eb8f",
   "metadata": {},
   "source": [
    "The RMSE and R2 values don't look too good for the regular linear regression model. Let's inspect the coefficients with a plot."
   ]
  },
  {
   "cell_type": "code",
   "execution_count": 25,
   "id": "cb97ccb0-d1ae-417a-ac1e-246483ad5c30",
   "metadata": {
    "tags": []
   },
   "outputs": [
    {
     "data": {
      "image/png": "[encoded data removed]",
      "text/plain": [
       "<Figure size 500x300 with 1 Axes>"
      ]
     },
     "metadata": {},
     "output_type": "display_data"
    }
   ],
   "source": [
    "#### Get the coefficients of the linear regression model\n",
    "coefficients = pd.DataFrame({'Variable': X_train.columns, 'Coefficient': model.coef_})\n",
    "\n",
    "# Plot coefficients to visualize the impact of each variable on wage\n",
    "plt.figure(figsize=(5,3))\n",
    "plt.barh(coefficients['Variable'], coefficients['Coefficient'], color='skyblue')\n",
    "plt.xlabel('Coefficient')\n",
    "plt.ylabel('Variable')\n",
    "plt.title('Coefficients of Linear Regression Model')\n",
    "plt.show()"
   ]
  },
  {
   "cell_type": "markdown",
   "id": "b1881075-daa5-4718-a1fd-0ec8bb861d8a",
   "metadata": {},
   "source": [
    "We see from the plot above that some coefficients are quite close to 0. We will first look at LASSO regression, as that will reduce the coefficients of non-existent effects all the way to 0, unlike Ridge. However, we will still look at Ridge regression for comparison purposes."
   ]
  },
  {
   "cell_type": "code",
   "execution_count": 26,
   "id": "c30be74d-8815-455f-9490-9a13a36d2b41",
   "metadata": {
    "tags": []
   },
   "outputs": [
    {
     "data": {
      "text/html": [
       "<style>#sk-container-id-4 {color: black;}#sk-container-id-4 pre{padding: 0;}#sk-container-id-4 div.sk-toggleable {background-color: white;}#sk-container-id-4 label.sk-toggleable__label {cursor: pointer;display: block;width: 100%;margin-bottom: 0;padding: 0.3em;box-sizing: border-box;text-align: center;}#sk-container-id-4 label.sk-toggleable__label-arrow:before {content: \"▸\";float: left;margin-right: 0.25em;color: #696969;}#sk-container-id-4 label.sk-toggleable__label-arrow:hover:before {color: black;}#sk-container-id-4 div.sk-estimator:hover label.sk-toggleable__label-arrow:before {color: black;}#sk-container-id-4 div.sk-toggleable__content {max-height: 0;max-width: 0;overflow: hidden;text-align: left;background-color: #f0f8ff;}#sk-container-id-4 div.sk-toggleable__content pre {margin: 0.2em;color: black;border-radius: 0.25em;background-color: #f0f8ff;}#sk-container-id-4 input.sk-toggleable__control:checked~div.sk-toggleable__content {max-height: 200px;max-width: 100%;overflow: auto;}#sk-container-id-4 input.sk-toggleable__control:checked~label.sk-toggleable__label-arrow:before {content: \"▾\";}#sk-container-id-4 div.sk-estimator input.sk-toggleable__control:checked~label.sk-toggleable__label {background-color: #d4ebff;}#sk-container-id-4 div.sk-label input.sk-toggleable__control:checked~label.sk-toggleable__label {background-color: #d4ebff;}#sk-container-id-4 input.sk-hidden--visually {border: 0;clip: rect(1px 1px 1px 1px);clip: rect(1px, 1px, 1px, 1px);height: 1px;margin: -1px;overflow: hidden;padding: 0;position: absolute;width: 1px;}#sk-container-id-4 div.sk-estimator {font-family: monospace;background-color: #f0f8ff;border: 1px dotted black;border-radius: 0.25em;box-sizing: border-box;margin-bottom: 0.5em;}#sk-container-id-4 div.sk-estimator:hover {background-color: #d4ebff;}#sk-container-id-4 div.sk-parallel-item::after {content: \"\";width: 100%;border-bottom: 1px solid gray;flex-grow: 1;}#sk-container-id-4 div.sk-label:hover label.sk-toggleable__label {background-color: #d4ebff;}#sk-container-id-4 div.sk-serial::before {content: \"\";position: absolute;border-left: 1px solid gray;box-sizing: border-box;top: 0;bottom: 0;left: 50%;z-index: 0;}#sk-container-id-4 div.sk-serial {display: flex;flex-direction: column;align-items: center;background-color: white;padding-right: 0.2em;padding-left: 0.2em;position: relative;}#sk-container-id-4 div.sk-item {position: relative;z-index: 1;}#sk-container-id-4 div.sk-parallel {display: flex;align-items: stretch;justify-content: center;background-color: white;position: relative;}#sk-container-id-4 div.sk-item::before, #sk-container-id-4 div.sk-parallel-item::before {content: \"\";position: absolute;border-left: 1px solid gray;box-sizing: border-box;top: 0;bottom: 0;left: 50%;z-index: -1;}#sk-container-id-4 div.sk-parallel-item {display: flex;flex-direction: column;z-index: 1;position: relative;background-color: white;}#sk-container-id-4 div.sk-parallel-item:first-child::after {align-self: flex-end;width: 50%;}#sk-container-id-4 div.sk-parallel-item:last-child::after {align-self: flex-start;width: 50%;}#sk-container-id-4 div.sk-parallel-item:only-child::after {width: 0;}#sk-container-id-4 div.sk-dashed-wrapped {border: 1px dashed gray;margin: 0 0.4em 0.5em 0.4em;box-sizing: border-box;padding-bottom: 0.4em;background-color: white;}#sk-container-id-4 div.sk-label label {font-family: monospace;font-weight: bold;display: inline-block;line-height: 1.2em;}#sk-container-id-4 div.sk-label-container {text-align: center;}#sk-container-id-4 div.sk-container {/* jupyter's `normalize.less` sets `[hidden] { display: none; }` but bootstrap.min.css set `[hidden] { display: none !important; }` so we also need the `!important` here to be able to override the default hidden behavior on the sphinx rendered scikit-learn.org. See: https://github.com/scikit-learn/scikit-learn/issues/21755 */display: inline-block !important;position: relative;}#sk-container-id-4 div.sk-text-repr-fallback {display: none;}</style><div id=\"sk-container-id-4\" class=\"sk-top-container\"><div class=\"sk-text-repr-fallback\"><pre>LassoCV(alphas=array([0.001, 0.002, 0.003, 0.004, 0.005, 0.006, 0.007, 0.008, 0.009,\n",
       "       0.01 , 0.011, 0.012, 0.013, 0.014, 0.015, 0.016, 0.017, 0.018,\n",
       "       0.019, 0.02 , 0.021, 0.022, 0.023, 0.024, 0.025, 0.026, 0.027,\n",
       "       0.028, 0.029, 0.03 , 0.031, 0.032, 0.033, 0.034, 0.035, 0.036,\n",
       "       0.037, 0.038, 0.039, 0.04 , 0.041, 0.042, 0.043, 0.044, 0.045,\n",
       "       0.046, 0.047, 0.048, 0.049, 0.05 , 0.051, 0.052, 0.053, 0.054,\n",
       "       0.055, 0.056, 0.057, 0.058, 0.059, 0.06 , 0.061, 0.062, 0.063,\n",
       "       0.064, 0.065, 0.066, 0.067, 0.068, 0.069, 0.07 , 0.071, 0.072,\n",
       "       0.073, 0.074, 0.075, 0.076, 0.077, 0.078, 0.079, 0.08 , 0.081,\n",
       "       0.082, 0.083, 0.084, 0.085, 0.086, 0.087, 0.088, 0.089, 0.09 ,\n",
       "       0.091, 0.092, 0.093, 0.094, 0.095, 0.096, 0.097, 0.098, 0.099]),\n",
       "        cv=RepeatedKFold(n_repeats=5, n_splits=5, random_state=0),\n",
       "        max_iter=10000, random_state=0)</pre><b>In a Jupyter environment, please rerun this cell to show the HTML representation or trust the notebook. <br />On GitHub, the HTML representation is unable to render, please try loading this page with nbviewer.org.</b></div><div class=\"sk-container\" hidden><div class=\"sk-item\"><div class=\"sk-estimator sk-toggleable\"><input class=\"sk-toggleable__control sk-hidden--visually\" id=\"sk-estimator-id-4\" type=\"checkbox\" checked><label for=\"sk-estimator-id-4\" class=\"sk-toggleable__label sk-toggleable__label-arrow\">LassoCV</label><div class=\"sk-toggleable__content\"><pre>LassoCV(alphas=array([0.001, 0.002, 0.003, 0.004, 0.005, 0.006, 0.007, 0.008, 0.009,\n",
       "       0.01 , 0.011, 0.012, 0.013, 0.014, 0.015, 0.016, 0.017, 0.018,\n",
       "       0.019, 0.02 , 0.021, 0.022, 0.023, 0.024, 0.025, 0.026, 0.027,\n",
       "       0.028, 0.029, 0.03 , 0.031, 0.032, 0.033, 0.034, 0.035, 0.036,\n",
       "       0.037, 0.038, 0.039, 0.04 , 0.041, 0.042, 0.043, 0.044, 0.045,\n",
       "       0.046, 0.047, 0.048, 0.049, 0.05 , 0.051, 0.052, 0.053, 0.054,\n",
       "       0.055, 0.056, 0.057, 0.058, 0.059, 0.06 , 0.061, 0.062, 0.063,\n",
       "       0.064, 0.065, 0.066, 0.067, 0.068, 0.069, 0.07 , 0.071, 0.072,\n",
       "       0.073, 0.074, 0.075, 0.076, 0.077, 0.078, 0.079, 0.08 , 0.081,\n",
       "       0.082, 0.083, 0.084, 0.085, 0.086, 0.087, 0.088, 0.089, 0.09 ,\n",
       "       0.091, 0.092, 0.093, 0.094, 0.095, 0.096, 0.097, 0.098, 0.099]),\n",
       "        cv=RepeatedKFold(n_repeats=5, n_splits=5, random_state=0),\n",
       "        max_iter=10000, random_state=0)</pre></div></div></div></div></div>"
      ],
      "text/plain": [
       "LassoCV(alphas=array([0.001, 0.002, 0.003, 0.004, 0.005, 0.006, 0.007, 0.008, 0.009,\n",
       "       0.01 , 0.011, 0.012, 0.013, 0.014, 0.015, 0.016, 0.017, 0.018,\n",
       "       0.019, 0.02 , 0.021, 0.022, 0.023, 0.024, 0.025, 0.026, 0.027,\n",
       "       0.028, 0.029, 0.03 , 0.031, 0.032, 0.033, 0.034, 0.035, 0.036,\n",
       "       0.037, 0.038, 0.039, 0.04 , 0.041, 0.042, 0.043, 0.044, 0.045,\n",
       "       0.046, 0.047, 0.048, 0.049, 0.05 , 0.051, 0.052, 0.053, 0.054,\n",
       "       0.055, 0.056, 0.057, 0.058, 0.059, 0.06 , 0.061, 0.062, 0.063,\n",
       "       0.064, 0.065, 0.066, 0.067, 0.068, 0.069, 0.07 , 0.071, 0.072,\n",
       "       0.073, 0.074, 0.075, 0.076, 0.077, 0.078, 0.079, 0.08 , 0.081,\n",
       "       0.082, 0.083, 0.084, 0.085, 0.086, 0.087, 0.088, 0.089, 0.09 ,\n",
       "       0.091, 0.092, 0.093, 0.094, 0.095, 0.096, 0.097, 0.098, 0.099]),\n",
       "        cv=RepeatedKFold(n_repeats=5, n_splits=5, random_state=0),\n",
       "        max_iter=10000, random_state=0)"
      ]
     },
     "execution_count": 26,
     "metadata": {},
     "output_type": "execute_result"
    }
   ],
   "source": [
    "## perform LASSO regression\n",
    "cv = RepeatedKFold(n_splits=5, n_repeats=5, random_state=0)\n",
    "model_lasso_cv = LassoCV(alphas=np.arange(0.001, 0.1, 0.001), max_iter=10000, cv=cv, random_state=0)\n",
    "model_lasso_cv.fit(X_train, y_train)"
   ]
  },
  {
   "cell_type": "markdown",
   "id": "a5acc815-5f9c-4aef-813a-0e01cb8d1400",
   "metadata": {},
   "source": [
    "Let's inspect a coefficient plot for the LASSO model."
   ]
  },
  {
   "cell_type": "code",
   "execution_count": 27,
   "id": "41dc10a0-0384-4a91-a490-66f908de1a6c",
   "metadata": {
    "tags": []
   },
   "outputs": [
    {
     "data": {
      "image/png": "[encoded data removed]",
      "text/plain": [
       "<Figure size 500x300 with 1 Axes>"
      ]
     },
     "metadata": {},
     "output_type": "display_data"
    }
   ],
   "source": [
    "#### Get the coefficients of the linear regression model\n",
    "coefficients = pd.DataFrame({'Variable': X_train.columns, 'Coefficient': model_lasso_cv.coef_})\n",
    "\n",
    "# Plot coefficients to visualize the impact of each variable on wage\n",
    "plt.figure(figsize=(5,3))\n",
    "plt.barh(coefficients['Variable'], coefficients['Coefficient'], color='skyblue')\n",
    "plt.xlabel('Coefficient')\n",
    "plt.ylabel('Variable')\n",
    "plt.title('Coefficients of Linear Regression Model')\n",
    "plt.show()"
   ]
  },
  {
   "cell_type": "markdown",
   "id": "c73ddfcc-75a4-48a3-9904-208b47d0da21",
   "metadata": {},
   "source": [
    "We can see in the plot above that the effects of race=1 (other) and sector=2 (manufacturing) have been completely reduced to 0. Let's look at how the model performs."
   ]
  },
  {
   "cell_type": "code",
   "execution_count": 28,
   "id": "58f1999a-c75f-4ca4-8b7f-fa54e50adab3",
   "metadata": {
    "tags": []
   },
   "outputs": [
    {
     "name": "stdout",
     "output_type": "stream",
     "text": [
      "3.999113993805962\n",
      "0.3215225218053662\n"
     ]
    }
   ],
   "source": [
    "# indeed, some factors are now 0; let's see how this model performs\n",
    "preds = model_lasso_cv.predict(X_test)\n",
    "print(np.sqrt(mean_squared_error(y_test, preds)))\n",
    "print(r2_score(y_test, preds))"
   ]
  },
  {
   "cell_type": "markdown",
   "id": "8956932b-e8ba-4c6c-b189-911417a3f688",
   "metadata": {},
   "source": [
    "The RMSE and R2 values of the LASSO model are identical to those of the regular linear regression model. This is interesting as regularizing the coefficients should have led to better accuracy on the test data. However, it seems that this is not true. Let's next try a Ridge model to see if that has any improved accuracy."
   ]
  },
  {
   "cell_type": "code",
   "execution_count": 31,
   "id": "516b9fc6-d47a-4bbe-ad7f-df32061c310f",
   "metadata": {
    "tags": []
   },
   "outputs": [
    {
     "data": {
      "text/html": [
       "<style>#sk-container-id-5 {color: black;}#sk-container-id-5 pre{padding: 0;}#sk-container-id-5 div.sk-toggleable {background-color: white;}#sk-container-id-5 label.sk-toggleable__label {cursor: pointer;display: block;width: 100%;margin-bottom: 0;padding: 0.3em;box-sizing: border-box;text-align: center;}#sk-container-id-5 label.sk-toggleable__label-arrow:before {content: \"▸\";float: left;margin-right: 0.25em;color: #696969;}#sk-container-id-5 label.sk-toggleable__label-arrow:hover:before {color: black;}#sk-container-id-5 div.sk-estimator:hover label.sk-toggleable__label-arrow:before {color: black;}#sk-container-id-5 div.sk-toggleable__content {max-height: 0;max-width: 0;overflow: hidden;text-align: left;background-color: #f0f8ff;}#sk-container-id-5 div.sk-toggleable__content pre {margin: 0.2em;color: black;border-radius: 0.25em;background-color: #f0f8ff;}#sk-container-id-5 input.sk-toggleable__control:checked~div.sk-toggleable__content {max-height: 200px;max-width: 100%;overflow: auto;}#sk-container-id-5 input.sk-toggleable__control:checked~label.sk-toggleable__label-arrow:before {content: \"▾\";}#sk-container-id-5 div.sk-estimator input.sk-toggleable__control:checked~label.sk-toggleable__label {background-color: #d4ebff;}#sk-container-id-5 div.sk-label input.sk-toggleable__control:checked~label.sk-toggleable__label {background-color: #d4ebff;}#sk-container-id-5 input.sk-hidden--visually {border: 0;clip: rect(1px 1px 1px 1px);clip: rect(1px, 1px, 1px, 1px);height: 1px;margin: -1px;overflow: hidden;padding: 0;position: absolute;width: 1px;}#sk-container-id-5 div.sk-estimator {font-family: monospace;background-color: #f0f8ff;border: 1px dotted black;border-radius: 0.25em;box-sizing: border-box;margin-bottom: 0.5em;}#sk-container-id-5 div.sk-estimator:hover {background-color: #d4ebff;}#sk-container-id-5 div.sk-parallel-item::after {content: \"\";width: 100%;border-bottom: 1px solid gray;flex-grow: 1;}#sk-container-id-5 div.sk-label:hover label.sk-toggleable__label {background-color: #d4ebff;}#sk-container-id-5 div.sk-serial::before {content: \"\";position: absolute;border-left: 1px solid gray;box-sizing: border-box;top: 0;bottom: 0;left: 50%;z-index: 0;}#sk-container-id-5 div.sk-serial {display: flex;flex-direction: column;align-items: center;background-color: white;padding-right: 0.2em;padding-left: 0.2em;position: relative;}#sk-container-id-5 div.sk-item {position: relative;z-index: 1;}#sk-container-id-5 div.sk-parallel {display: flex;align-items: stretch;justify-content: center;background-color: white;position: relative;}#sk-container-id-5 div.sk-item::before, #sk-container-id-5 div.sk-parallel-item::before {content: \"\";position: absolute;border-left: 1px solid gray;box-sizing: border-box;top: 0;bottom: 0;left: 50%;z-index: -1;}#sk-container-id-5 div.sk-parallel-item {display: flex;flex-direction: column;z-index: 1;position: relative;background-color: white;}#sk-container-id-5 div.sk-parallel-item:first-child::after {align-self: flex-end;width: 50%;}#sk-container-id-5 div.sk-parallel-item:last-child::after {align-self: flex-start;width: 50%;}#sk-container-id-5 div.sk-parallel-item:only-child::after {width: 0;}#sk-container-id-5 div.sk-dashed-wrapped {border: 1px dashed gray;margin: 0 0.4em 0.5em 0.4em;box-sizing: border-box;padding-bottom: 0.4em;background-color: white;}#sk-container-id-5 div.sk-label label {font-family: monospace;font-weight: bold;display: inline-block;line-height: 1.2em;}#sk-container-id-5 div.sk-label-container {text-align: center;}#sk-container-id-5 div.sk-container {/* jupyter's `normalize.less` sets `[hidden] { display: none; }` but bootstrap.min.css set `[hidden] { display: none !important; }` so we also need the `!important` here to be able to override the default hidden behavior on the sphinx rendered scikit-learn.org. See: https://github.com/scikit-learn/scikit-learn/issues/21755 */display: inline-block !important;position: relative;}#sk-container-id-5 div.sk-text-repr-fallback {display: none;}</style><div id=\"sk-container-id-5\" class=\"sk-top-container\"><div class=\"sk-text-repr-fallback\"><pre>RidgeCV(alphas=array([0.001, 0.002, 0.003, 0.004, 0.005, 0.006, 0.007, 0.008, 0.009,\n",
       "       0.01 , 0.011, 0.012, 0.013, 0.014, 0.015, 0.016, 0.017, 0.018,\n",
       "       0.019, 0.02 , 0.021, 0.022, 0.023, 0.024, 0.025, 0.026, 0.027,\n",
       "       0.028, 0.029, 0.03 , 0.031, 0.032, 0.033, 0.034, 0.035, 0.036,\n",
       "       0.037, 0.038, 0.039, 0.04 , 0.041, 0.042, 0.043, 0.044, 0.045,\n",
       "       0.046, 0.047, 0.048, 0.049, 0.05 , 0.051, 0.052, 0.053, 0.054,\n",
       "       0.055, 0.056, 0.057, 0.058, 0.059, 0.06 , 0.061, 0.062, 0.063,\n",
       "       0.064, 0.065, 0.066, 0.067, 0.068, 0.069, 0.07 , 0.071, 0.072,\n",
       "       0.073, 0.074, 0.075, 0.076, 0.077, 0.078, 0.079, 0.08 , 0.081,\n",
       "       0.082, 0.083, 0.084, 0.085, 0.086, 0.087, 0.088, 0.089, 0.09 ,\n",
       "       0.091, 0.092, 0.093, 0.094, 0.095, 0.096, 0.097, 0.098, 0.099]),\n",
       "        cv=RepeatedKFold(n_repeats=5, n_splits=5, random_state=0))</pre><b>In a Jupyter environment, please rerun this cell to show the HTML representation or trust the notebook. <br />On GitHub, the HTML representation is unable to render, please try loading this page with nbviewer.org.</b></div><div class=\"sk-container\" hidden><div class=\"sk-item\"><div class=\"sk-estimator sk-toggleable\"><input class=\"sk-toggleable__control sk-hidden--visually\" id=\"sk-estimator-id-5\" type=\"checkbox\" checked><label for=\"sk-estimator-id-5\" class=\"sk-toggleable__label sk-toggleable__label-arrow\">RidgeCV</label><div class=\"sk-toggleable__content\"><pre>RidgeCV(alphas=array([0.001, 0.002, 0.003, 0.004, 0.005, 0.006, 0.007, 0.008, 0.009,\n",
       "       0.01 , 0.011, 0.012, 0.013, 0.014, 0.015, 0.016, 0.017, 0.018,\n",
       "       0.019, 0.02 , 0.021, 0.022, 0.023, 0.024, 0.025, 0.026, 0.027,\n",
       "       0.028, 0.029, 0.03 , 0.031, 0.032, 0.033, 0.034, 0.035, 0.036,\n",
       "       0.037, 0.038, 0.039, 0.04 , 0.041, 0.042, 0.043, 0.044, 0.045,\n",
       "       0.046, 0.047, 0.048, 0.049, 0.05 , 0.051, 0.052, 0.053, 0.054,\n",
       "       0.055, 0.056, 0.057, 0.058, 0.059, 0.06 , 0.061, 0.062, 0.063,\n",
       "       0.064, 0.065, 0.066, 0.067, 0.068, 0.069, 0.07 , 0.071, 0.072,\n",
       "       0.073, 0.074, 0.075, 0.076, 0.077, 0.078, 0.079, 0.08 , 0.081,\n",
       "       0.082, 0.083, 0.084, 0.085, 0.086, 0.087, 0.088, 0.089, 0.09 ,\n",
       "       0.091, 0.092, 0.093, 0.094, 0.095, 0.096, 0.097, 0.098, 0.099]),\n",
       "        cv=RepeatedKFold(n_repeats=5, n_splits=5, random_state=0))</pre></div></div></div></div></div>"
      ],
      "text/plain": [
       "RidgeCV(alphas=array([0.001, 0.002, 0.003, 0.004, 0.005, 0.006, 0.007, 0.008, 0.009,\n",
       "       0.01 , 0.011, 0.012, 0.013, 0.014, 0.015, 0.016, 0.017, 0.018,\n",
       "       0.019, 0.02 , 0.021, 0.022, 0.023, 0.024, 0.025, 0.026, 0.027,\n",
       "       0.028, 0.029, 0.03 , 0.031, 0.032, 0.033, 0.034, 0.035, 0.036,\n",
       "       0.037, 0.038, 0.039, 0.04 , 0.041, 0.042, 0.043, 0.044, 0.045,\n",
       "       0.046, 0.047, 0.048, 0.049, 0.05 , 0.051, 0.052, 0.053, 0.054,\n",
       "       0.055, 0.056, 0.057, 0.058, 0.059, 0.06 , 0.061, 0.062, 0.063,\n",
       "       0.064, 0.065, 0.066, 0.067, 0.068, 0.069, 0.07 , 0.071, 0.072,\n",
       "       0.073, 0.074, 0.075, 0.076, 0.077, 0.078, 0.079, 0.08 , 0.081,\n",
       "       0.082, 0.083, 0.084, 0.085, 0.086, 0.087, 0.088, 0.089, 0.09 ,\n",
       "       0.091, 0.092, 0.093, 0.094, 0.095, 0.096, 0.097, 0.098, 0.099]),\n",
       "        cv=RepeatedKFold(n_repeats=5, n_splits=5, random_state=0))"
      ]
     },
     "execution_count": 31,
     "metadata": {},
     "output_type": "execute_result"
    }
   ],
   "source": [
    "# train a ridge model\n",
    "model_ridge_cv = RidgeCV(alphas=np.arange(0.001, 0.1, 0.001), cv=cv)\n",
    "model_ridge_cv.fit(X_train, y_train)"
   ]
  },
  {
   "cell_type": "markdown",
   "id": "95dece21-c867-45d5-8e75-18f93d2dee7d",
   "metadata": {},
   "source": [
    "Now let's see if the Ridge regression performs any better than the regular or LASSO regression models."
   ]
  },
  {
   "cell_type": "code",
   "execution_count": 32,
   "id": "55bce52f-806f-451c-9f02-d9fd1bf3857b",
   "metadata": {
    "tags": []
   },
   "outputs": [
    {
     "name": "stdout",
     "output_type": "stream",
     "text": [
      "3.9939794154858412\n",
      "0.32326363713574613\n"
     ]
    }
   ],
   "source": [
    "# indeed, some factors are now 0; let's see how this model performs\n",
    "preds = model_ridge_cv.predict(X_test)\n",
    "print(np.sqrt(mean_squared_error(y_test, preds)))\n",
    "print(r2_score(y_test, preds))"
   ]
  },
  {
   "cell_type": "markdown",
   "id": "c54c0b54-678c-43bd-a0b7-6b8c1cc8263e",
   "metadata": {},
   "source": [
    "Again, it performs identically. In this scenario, for prediction purposes, it might prove best to use ordinary linear regression as complicating the model doesn't prove useful. For the sake of simplicity, to look at the effects of the various factors, we shall use the coefficients from LASSO regression."
   ]
  },
  {
   "cell_type": "code",
   "execution_count": 35,
   "id": "92078bf4-192d-4f2f-aae6-8c094b692f31",
   "metadata": {
    "tags": []
   },
   "outputs": [
    {
     "data": {
      "text/html": [
       "<div>\n",
       "<style scoped>\n",
       "    .dataframe tbody tr th:only-of-type {\n",
       "        vertical-align: middle;\n",
       "    }\n",
       "\n",
       "    .dataframe tbody tr th {\n",
       "        vertical-align: top;\n",
       "    }\n",
       "\n",
       "    .dataframe thead th {\n",
       "        text-align: right;\n",
       "    }\n",
       "</style>\n",
       "<table border=\"1\" class=\"dataframe\">\n",
       "  <thead>\n",
       "    <tr style=\"text-align: right;\">\n",
       "      <th></th>\n",
       "      <th>Variable</th>\n",
       "      <th>Coefficient</th>\n",
       "      <th>Abs_Coefficient</th>\n",
       "    </tr>\n",
       "  </thead>\n",
       "  <tbody>\n",
       "    <tr>\n",
       "      <th>4</th>\n",
       "      <td>occ_1</td>\n",
       "      <td>4.308504</td>\n",
       "      <td>4.308504</td>\n",
       "    </tr>\n",
       "    <tr>\n",
       "      <th>8</th>\n",
       "      <td>occ_5</td>\n",
       "      <td>3.234756</td>\n",
       "      <td>3.234756</td>\n",
       "    </tr>\n",
       "    <tr>\n",
       "      <th>2</th>\n",
       "      <td>union</td>\n",
       "      <td>1.910523</td>\n",
       "      <td>1.910523</td>\n",
       "    </tr>\n",
       "    <tr>\n",
       "      <th>1</th>\n",
       "      <td>sex</td>\n",
       "      <td>-1.900044</td>\n",
       "      <td>1.900044</td>\n",
       "    </tr>\n",
       "    <tr>\n",
       "      <th>7</th>\n",
       "      <td>occ_4</td>\n",
       "      <td>-1.156530</td>\n",
       "      <td>1.156530</td>\n",
       "    </tr>\n",
       "    <tr>\n",
       "      <th>9</th>\n",
       "      <td>occ_6</td>\n",
       "      <td>-1.073443</td>\n",
       "      <td>1.073443</td>\n",
       "    </tr>\n",
       "    <tr>\n",
       "      <th>15</th>\n",
       "      <td>race_3</td>\n",
       "      <td>0.953182</td>\n",
       "      <td>0.953182</td>\n",
       "    </tr>\n",
       "    <tr>\n",
       "      <th>11</th>\n",
       "      <td>sec_1</td>\n",
       "      <td>0.719953</td>\n",
       "      <td>0.719953</td>\n",
       "    </tr>\n",
       "    <tr>\n",
       "      <th>14</th>\n",
       "      <td>race_2</td>\n",
       "      <td>-0.692164</td>\n",
       "      <td>0.692164</td>\n",
       "    </tr>\n",
       "    <tr>\n",
       "      <th>0</th>\n",
       "      <td>south</td>\n",
       "      <td>-0.597893</td>\n",
       "      <td>0.597893</td>\n",
       "    </tr>\n",
       "    <tr>\n",
       "      <th>3</th>\n",
       "      <td>marr</td>\n",
       "      <td>0.366581</td>\n",
       "      <td>0.366581</td>\n",
       "    </tr>\n",
       "    <tr>\n",
       "      <th>10</th>\n",
       "      <td>sec_0</td>\n",
       "      <td>-0.355296</td>\n",
       "      <td>0.355296</td>\n",
       "    </tr>\n",
       "    <tr>\n",
       "      <th>5</th>\n",
       "      <td>occ_2</td>\n",
       "      <td>-0.341762</td>\n",
       "      <td>0.341762</td>\n",
       "    </tr>\n",
       "    <tr>\n",
       "      <th>6</th>\n",
       "      <td>occ_3</td>\n",
       "      <td>0.125929</td>\n",
       "      <td>0.125929</td>\n",
       "    </tr>\n",
       "    <tr>\n",
       "      <th>12</th>\n",
       "      <td>sec_2</td>\n",
       "      <td>-0.000000</td>\n",
       "      <td>0.000000</td>\n",
       "    </tr>\n",
       "    <tr>\n",
       "      <th>13</th>\n",
       "      <td>race_1</td>\n",
       "      <td>0.000000</td>\n",
       "      <td>0.000000</td>\n",
       "    </tr>\n",
       "  </tbody>\n",
       "</table>\n",
       "</div>"
      ],
      "text/plain": [
       "   Variable  Coefficient  Abs_Coefficient\n",
       "4     occ_1     4.308504         4.308504\n",
       "8     occ_5     3.234756         3.234756\n",
       "2     union     1.910523         1.910523\n",
       "1       sex    -1.900044         1.900044\n",
       "7     occ_4    -1.156530         1.156530\n",
       "9     occ_6    -1.073443         1.073443\n",
       "15   race_3     0.953182         0.953182\n",
       "11    sec_1     0.719953         0.719953\n",
       "14   race_2    -0.692164         0.692164\n",
       "0     south    -0.597893         0.597893\n",
       "3      marr     0.366581         0.366581\n",
       "10    sec_0    -0.355296         0.355296\n",
       "5     occ_2    -0.341762         0.341762\n",
       "6     occ_3     0.125929         0.125929\n",
       "12    sec_2    -0.000000         0.000000\n",
       "13   race_1     0.000000         0.000000"
      ]
     },
     "execution_count": 35,
     "metadata": {},
     "output_type": "execute_result"
    }
   ],
   "source": [
    "# print the coefficients of the LASSO model\n",
    "coefficients"
   ]
  },
  {
   "cell_type": "markdown",
   "id": "a13aa310-d1b7-4077-b537-828855acaf5b",
   "metadata": {},
   "source": [
    "The model coefficients tell us the follo"
   ]
  }
 ],
 "metadata": {
  "kernelspec": {
   "display_name": "Python 3 (ipykernel)",
   "language": "python",
   "name": "python3"
  },
  "language_info": {
   "codemirror_mode": {
    "name": "ipython",
    "version": 3
   },
   "file_extension": ".py",
   "mimetype": "text/x-python",
   "name": "python",
   "nbconvert_exporter": "python",
   "pygments_lexer": "ipython3",
   "version": "3.11.5"
  }
 },
 "nbformat": 4,
 "nbformat_minor": 5
}
